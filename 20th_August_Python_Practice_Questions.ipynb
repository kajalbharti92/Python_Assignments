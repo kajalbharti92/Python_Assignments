{
 "cells": [
  {
   "cell_type": "markdown",
   "metadata": {},
   "source": [
    "TOPIC: String Based Assignment Problem"
   ]
  },
  {
   "cell_type": "code",
   "execution_count": 44,
   "metadata": {},
   "outputs": [
    {
     "name": "stdout",
     "output_type": "stream",
     "text": [
      "Enter the string:  My Name is Kajal\n",
      "lajaK si emaN yM\n"
     ]
    }
   ],
   "source": [
    " # Write a program to reverse a string.\n",
    "\n",
    " s=input(\"Enter any String: \")\n",
    " print(\"Enter the string: \",s)\n",
    " print(s[::-1])"
   ]
  },
  {
   "cell_type": "code",
   "execution_count": 9,
   "metadata": {},
   "outputs": [
    {
     "name": "stdout",
     "output_type": "stream",
     "text": [
      "Enter the string:  NAMAN\n",
      "It's a Pallindrome\n"
     ]
    }
   ],
   "source": [
    "# Check if a string is a palindrome.\n",
    "\n",
    "p=input(\"Enter the string: \")\n",
    "print(\"Enter the string: \",p)\n",
    "if(p==p[::-1]):\n",
    "    print(\"It's a Pallindrome\")\n",
    "else:\n",
    "    print(\"It's not a Pallindrome\")"
   ]
  },
  {
   "cell_type": "code",
   "execution_count": 13,
   "metadata": {},
   "outputs": [
    {
     "name": "stdout",
     "output_type": "stream",
     "text": [
      "Enter any string:  pikachu\n",
      "PIKACHU\n"
     ]
    }
   ],
   "source": [
    "# Convert a string to uppercase.\n",
    "\n",
    "a=input()\n",
    "print(\"Enter any string: \",a)\n",
    "print(a.upper())"
   ]
  },
  {
   "cell_type": "code",
   "execution_count": 14,
   "metadata": {},
   "outputs": [
    {
     "name": "stdout",
     "output_type": "stream",
     "text": [
      "Enter any strings:  POKEMON\n",
      "pokemon\n"
     ]
    }
   ],
   "source": [
    "# Convert a string to lowercase.\n",
    "\n",
    "b=input()\n",
    "print(\"Enter any strings: \",b)\n",
    "print(b.lower())"
   ]
  },
  {
   "cell_type": "code",
   "execution_count": 17,
   "metadata": {},
   "outputs": [
    {
     "name": "stdout",
     "output_type": "stream",
     "text": [
      "Enter any string:  Pikachu\n",
      "Number of vowels in the following String is:  3\n"
     ]
    }
   ],
   "source": [
    "# Count the number of vowels in a string.\n",
    "\n",
    "S=input()\n",
    "print(\"Enter any string: \",S)\n",
    "counts=0\n",
    "for i in S:\n",
    "    if i=='A' or i=='a' or i=='E' or i=='e' or i=='I' or i=='i' or i=='O' or i=='o' or i=='U' or i=='u':\n",
    "        counts+=1\n",
    "print(\"Number of vowels in the following String is: \",counts)"
   ]
  },
  {
   "cell_type": "code",
   "execution_count": 24,
   "metadata": {},
   "outputs": [
    {
     "name": "stdout",
     "output_type": "stream",
     "text": [
      "Enter any string:  Pikachu\n",
      "Number of consonants in the following String is:  4\n"
     ]
    }
   ],
   "source": [
    "# Count the number of consonants in a string.\n",
    "\n",
    "s=input()\n",
    "print(\"Enter any string: \",s)\n",
    "counts=0\n",
    "for i in s:\n",
    "    if (i!='A' and i!='a' and i!='E' and i!='e' and i!='I' and i!='i' and i!='O' and i!='o' and i!='U' and i!='u'):\n",
    "        counts+=1\n",
    "print(\"Number of consonants in the following String is: \",counts)"
   ]
  },
  {
   "cell_type": "code",
   "execution_count": 26,
   "metadata": {},
   "outputs": [
    {
     "name": "stdout",
     "output_type": "stream",
     "text": [
      "Enter any string:  PW SKILLS\n",
      " PWSKILLS\n"
     ]
    }
   ],
   "source": [
    "# Remove all whitespaces from a string.\n",
    "\n",
    "s=input()\n",
    "print(\"Enter any string: \",s)\n",
    "x=\" \"\n",
    "for i in s: \n",
    "    if i!=\" \":\n",
    "        x+=i\n",
    "print(x)"
   ]
  },
  {
   "cell_type": "code",
   "execution_count": 28,
   "metadata": {},
   "outputs": [
    {
     "name": "stdout",
     "output_type": "stream",
     "text": [
      "Enter any string:  pikachu\n",
      "7\n"
     ]
    }
   ],
   "source": [
    "# Find the length of a string without using the `len()` function.\n",
    "\n",
    "s=input()\n",
    "print(\"Enter any string: \",s)\n",
    "count=0\n",
    "for i in s:\n",
    "    count+=1\n",
    "print(count)"
   ]
  },
  {
   "cell_type": "code",
   "execution_count": 30,
   "metadata": {},
   "outputs": [
    {
     "name": "stdout",
     "output_type": "stream",
     "text": [
      "Enter any string:  Check if a string contains a specific word.\n",
      "18\n"
     ]
    }
   ],
   "source": [
    "# Check if a string contains a specific word.\n",
    "\n",
    "s=input()\n",
    "t=input(\"Enter the specific word you want: \")\n",
    "print(\"Enter any string: \",s)\n",
    "print(s.find(t))"
   ]
  },
  {
   "cell_type": "code",
   "execution_count": 33,
   "metadata": {},
   "outputs": [
    {
     "name": "stdout",
     "output_type": "stream",
     "text": [
      "Enter any string:  Replace a word in a string with another word\n",
      "Enter the word you want to replace:  word\n",
      "Enter the word you want to replace with:  add\n",
      "Replace a add in a string with another add\n"
     ]
    }
   ],
   "source": [
    "# Replace a word in a string with another word.\n",
    "\n",
    "s=input()\n",
    "u=input()\n",
    "v=input()\n",
    "print(\"Enter any string: \",s)\n",
    "print(\"Enter the word you want to replace: \",u)\n",
    "print(\"Enter the word you want to replace with: \",v)\n",
    "print(s.replace(u,v))"
   ]
  },
  {
   "cell_type": "code",
   "execution_count": 35,
   "metadata": {},
   "outputs": [
    {
     "name": "stdout",
     "output_type": "stream",
     "text": [
      "Enter any string:  World Hello World\n",
      "Enter the word to count occurrences:  World\n",
      "2\n"
     ]
    }
   ],
   "source": [
    "# Count the occurrences of a word in a string.\n",
    "\n",
    "s=input()\n",
    "u=input()\n",
    "print(\"Enter any string: \",s)\n",
    "print(\"Enter the word to count occurrences: \",u)\n",
    "print(s.count(u))"
   ]
  },
  {
   "cell_type": "code",
   "execution_count": 36,
   "metadata": {},
   "outputs": [
    {
     "name": "stdout",
     "output_type": "stream",
     "text": [
      "Enter any string:  World Hello World\n",
      "Enter the word to count the first occurrence:  Hello\n",
      "6\n"
     ]
    }
   ],
   "source": [
    "# Find the first occurrence of a word in a string.\n",
    "\n",
    "s=input()\n",
    "u=input()\n",
    "print(\"Enter any string: \",s)\n",
    "print(\"Enter the word to count the first occurrence: \",u)\n",
    "print(s.index(u))"
   ]
  },
  {
   "cell_type": "code",
   "execution_count": 37,
   "metadata": {},
   "outputs": [
    {
     "name": "stdout",
     "output_type": "stream",
     "text": [
      "Enter any string:  Hi! How are you?\n",
      "Enter the word to count the last occurrence:  are\n",
      "8\n"
     ]
    }
   ],
   "source": [
    "# Find the last occurrence of a word in a string.\n",
    "\n",
    "s=input()\n",
    "u=input()\n",
    "print(\"Enter any string: \",s)\n",
    "print(\"Enter the word to count the last occurrence: \",u)\n",
    "print(s.rfind(u))"
   ]
  },
  {
   "cell_type": "code",
   "execution_count": 39,
   "metadata": {},
   "outputs": [
    {
     "name": "stdout",
     "output_type": "stream",
     "text": [
      "Enter any string:  Hello World! How are you?\n",
      "['Hello', 'World!', 'How', 'are', 'you?']\n"
     ]
    }
   ],
   "source": [
    "# Split a string into a list of words.\n",
    "\n",
    "s=input()\n",
    "print(\"Enter any string: \",s)\n",
    "print(s.split())\n"
   ]
  },
  {
   "cell_type": "code",
   "execution_count": 44,
   "metadata": {},
   "outputs": [
    {
     "name": "stdout",
     "output_type": "stream",
     "text": [
      "Hello World! How are you?\n"
     ]
    }
   ],
   "source": [
    "# Join a list of words into a string.\n",
    "\n",
    "s=\" \"\n",
    "l=['Hello','World!','How','are','you?']\n",
    "print(s.join(l))"
   ]
  },
  {
   "cell_type": "code",
   "execution_count": 47,
   "metadata": {},
   "outputs": [
    {
     "name": "stdout",
     "output_type": "stream",
     "text": [
      "Enter any string:  Hello World! How are you?\n",
      "Hello_World!_How_are_you?\n"
     ]
    }
   ],
   "source": [
    "# Convert a string where words are separated by spaces to one where words are separated by underscores.\n",
    "\n",
    "s=input()\n",
    "print(\"Enter any string: \",s)\n",
    "print(s.replace(\" \", \"_\"))"
   ]
  },
  {
   "cell_type": "code",
   "execution_count": 48,
   "metadata": {},
   "outputs": [
    {
     "name": "stdout",
     "output_type": "stream",
     "text": [
      "Enter any string:  Hello World!\n",
      "Enter the word:  Hello\n",
      "True\n"
     ]
    }
   ],
   "source": [
    "# Check if a string starts with a specific word or phrase.\n",
    "\n",
    "s=input()\n",
    "u=input()\n",
    "print(\"Enter any string: \",s)\n",
    "print(\"Enter the word: \",u)\n",
    "print(s.startswith(u))"
   ]
  },
  {
   "cell_type": "code",
   "execution_count": 49,
   "metadata": {},
   "outputs": [
    {
     "name": "stdout",
     "output_type": "stream",
     "text": [
      "Enter any string:  Hello World\n",
      "Enter the word:  World\n",
      "True\n"
     ]
    }
   ],
   "source": [
    "# Check if a string ends with a specific word or phrase.\n",
    "\n",
    "s=input()\n",
    "u=input()\n",
    "print(\"Enter any string: \",s)\n",
    "print(\"Enter the word: \",u)\n",
    "print(s.endswith(u))"
   ]
  },
  {
   "cell_type": "code",
   "execution_count": 51,
   "metadata": {},
   "outputs": [
    {
     "name": "stdout",
     "output_type": "stream",
     "text": [
      "Enter any string:  hello world\n",
      "Hello World\n"
     ]
    }
   ],
   "source": [
    "# Convert a string to title case (e.g., \"hello world\" to \"Hello World\").\n",
    "\n",
    "s=input()\n",
    "print(\"Enter any string: \",s)\n",
    "print(s.title())"
   ]
  },
  {
   "cell_type": "code",
   "execution_count": 55,
   "metadata": {},
   "outputs": [
    {
     "name": "stdout",
     "output_type": "stream",
     "text": [
      "['Hey', 'Hello']\n",
      "Hello\n"
     ]
    }
   ],
   "source": [
    "# Find the longest word in a string.\n",
    "\n",
    "s=input()\n",
    "l=s.split()\n",
    "print(l)\n",
    "longest_word=max(l,key=len)\n",
    "print(longest_word)"
   ]
  },
  {
   "cell_type": "code",
   "execution_count": 56,
   "metadata": {},
   "outputs": [
    {
     "name": "stdout",
     "output_type": "stream",
     "text": [
      "['Hey', 'Hi']\n",
      "Hi\n"
     ]
    }
   ],
   "source": [
    "# Find the shortest word in a string.\n",
    "\n",
    "s=input()\n",
    "l=s.split()\n",
    "print(l)\n",
    "shortest_word=min(l,key=len)\n",
    "print(shortest_word)"
   ]
  },
  {
   "cell_type": "code",
   "execution_count": 75,
   "metadata": {},
   "outputs": [
    {
     "name": "stdout",
     "output_type": "stream",
     "text": [
      "['you?', 'are', 'How', 'Hi!']\n",
      "you? are How Hi!\n"
     ]
    }
   ],
   "source": [
    "# Reverse the order of words in a string.\n",
    "\n",
    "z=\"Hi! How are you?\"\n",
    "l=z.split()\n",
    "l=l[::-1]\n",
    "print(l)\n",
    "words=' '.join(l)\n",
    "print(words)  \n"
   ]
  },
  {
   "cell_type": "code",
   "execution_count": 80,
   "metadata": {},
   "outputs": [
    {
     "name": "stdout",
     "output_type": "stream",
     "text": [
      "Enter any string:  pikachu123\n",
      "True\n"
     ]
    }
   ],
   "source": [
    "# Check if a string is alphanumeric.\n",
    "\n",
    "s=input()\n",
    "print(\"Enter any string: \",s)\n",
    "t=s.isalnum()\n",
    "print(t)"
   ]
  },
  {
   "cell_type": "code",
   "execution_count": 85,
   "metadata": {},
   "outputs": [
    {
     "name": "stdout",
     "output_type": "stream",
     "text": [
      "Enter any string:  Hello 1 2 3 World! 4 5\n",
      "1 2 3 4 5 "
     ]
    }
   ],
   "source": [
    "# Extract all digits from a string.\n",
    "\n",
    "s=input()\n",
    "print(\"Enter any string: \",s)\n",
    "t=s.split()\n",
    "for i in t:\n",
    "    if i.isdigit():\n",
    "        print(i, end=' ')"
   ]
  },
  {
   "cell_type": "code",
   "execution_count": 87,
   "metadata": {},
   "outputs": [
    {
     "name": "stdout",
     "output_type": "stream",
     "text": [
      "Enter any string:  Hello 1 2 3 World ! 4 5 6 \n",
      "Hello World "
     ]
    }
   ],
   "source": [
    "# Extract all alphabets from a string.\n",
    "\n",
    "s=input()\n",
    "print(\"Enter any string: \",s)\n",
    "t=s.split()\n",
    "for i in t:\n",
    "    if i.isalpha():\n",
    "        print(i, end=' ')"
   ]
  },
  {
   "cell_type": "code",
   "execution_count": 92,
   "metadata": {},
   "outputs": [
    {
     "name": "stdout",
     "output_type": "stream",
     "text": [
      "Enter any string:  HELLO WORLD!\n",
      "The number of uppercase letters are:  10\n"
     ]
    }
   ],
   "source": [
    "# Count the number of uppercase letters in a string.\n",
    "\n",
    "s=input()\n",
    "print(\"Enter any string: \",s)\n",
    "count=0\n",
    "for i in s:\n",
    "    if i.isupper():\n",
    "        count=count+1\n",
    "print(\"The number of uppercase letters are: \",count)"
   ]
  },
  {
   "cell_type": "code",
   "execution_count": 93,
   "metadata": {},
   "outputs": [
    {
     "name": "stdout",
     "output_type": "stream",
     "text": [
      "Enter any string:  HeLLo WorlD!\n",
      "The number of lowercase letters are:  5\n"
     ]
    }
   ],
   "source": [
    "# Count the number of lowercase letters in a string.\n",
    "\n",
    "s=input()\n",
    "print(\"Enter any string: \",s)\n",
    "count=0\n",
    "for i in s:\n",
    "    if i.islower():\n",
    "        count=count+1\n",
    "print(\"The number of lowercase letters are: \",count)"
   ]
  },
  {
   "cell_type": "code",
   "execution_count": 94,
   "metadata": {},
   "outputs": [
    {
     "name": "stdout",
     "output_type": "stream",
     "text": [
      "Enter any string:  HellO WorLD\n",
      "hELLo wORld\n"
     ]
    }
   ],
   "source": [
    "# Swap the case of each character in a string.\n",
    "\n",
    "s=input()\n",
    "print(\"Enter any string: \",s)\n",
    "print(s.swapcase())\n"
   ]
  },
  {
   "cell_type": "code",
   "execution_count": 99,
   "metadata": {},
   "outputs": [
    {
     "name": "stdout",
     "output_type": "stream",
     "text": [
      "Enter any string:  Hello World! How are you?\n",
      "Enter any word you want to remove: \n",
      "Hello  ! How are you?\n"
     ]
    }
   ],
   "source": [
    "# Remove a specific word from a string.\n",
    "\n",
    "s=input()\n",
    "print(\"Enter any string: \",s)\n",
    "t=input()\n",
    "print(\"Enter any word you want to remove: \"),t\n",
    "print(s.replace(t,\" \"))"
   ]
  },
  {
   "cell_type": "code",
   "execution_count": 6,
   "metadata": {},
   "outputs": [
    {
     "name": "stdout",
     "output_type": "stream",
     "text": [
      "Please enter an email address:  kajalbharti9717@gmail.com\n",
      "kajalbharti9717@gmail.com is a valid email address.\n"
     ]
    }
   ],
   "source": [
    "# Check if a string is a valid email address.\n",
    "\n",
    "import re\n",
    "def valid_Email_address(email):\n",
    "    pattern = r\"^[a-zA-Z0-9._%+-]+@[a-zA-Z0-9.-]+\\.[a-zA-Z]{2,}$\"  \n",
    "    return re.match(pattern,email)\n",
    "\n",
    "Email_address=input()\n",
    "print(\"Please enter an email address: \",Email_address)\n",
    "if valid_Email_address(Email_address):\n",
    "    print(\"{} is a valid email address.\" .format(Email_address))\n",
    "else:\n",
    "    print(\"{} is not a valid email address.\" .format(Email_address))"
   ]
  },
  {
   "cell_type": "code",
   "execution_count": 17,
   "metadata": {},
   "outputs": [
    {
     "name": "stdout",
     "output_type": "stream",
     "text": [
      "Please enter the valid Email address:  kajal97@gmail.com\n",
      "The username of the account is  kajal97\n"
     ]
    }
   ],
   "source": [
    "# Extract the username from an email address string.\n",
    "\n",
    "def Valid_Email(email):\n",
    "    Username = email.split(\"@\")[0]\n",
    "    return Username\n",
    "   \n",
    "\n",
    "Email=input()\n",
    "print(\"Please enter the valid Email address: \",Email)\n",
    "s=Valid_Email(Email)\n",
    "print(\"The username of the account is \",s)"
   ]
  },
  {
   "cell_type": "code",
   "execution_count": 19,
   "metadata": {},
   "outputs": [
    {
     "name": "stdout",
     "output_type": "stream",
     "text": [
      "Please enter the valid Email address:  kajal97@gmail.com\n",
      "The domainname of the account is  gmail.com\n"
     ]
    }
   ],
   "source": [
    "# Extract the domain name from an email address string.\n",
    "\n",
    "def Valid_Email(email):\n",
    "    domainname = email.split(\"@\")[1]\n",
    "    return domainname\n",
    "   \n",
    "\n",
    "Email=input()\n",
    "print(\"Please enter the valid Email address: \",Email)\n",
    "s=Valid_Email(Email)\n",
    "print(\"The domainname of the account is \",s)"
   ]
  },
  {
   "cell_type": "code",
   "execution_count": 24,
   "metadata": {},
   "outputs": [
    {
     "name": "stdout",
     "output_type": "stream",
     "text": [
      "Enter any string:  Hello      World!       How   are   you   ?   \n",
      "Modified String: Hello World! How are you ?\n"
     ]
    }
   ],
   "source": [
    "# Replace multiple spaces in a string with a single space.\n",
    "\n",
    "s=input()\n",
    "print(\"Enter any string: \",s)\n",
    "s1=s.split()\n",
    "s2=\" \".join(s1)\n",
    "print(\"Modified String: {}\".format(s2))"
   ]
  },
  {
   "cell_type": "code",
   "execution_count": 31,
   "metadata": {},
   "outputs": [
    {
     "name": "stdout",
     "output_type": "stream",
     "text": [
      "https://gray-analyst-aimlb.pwskills.app/lab/tree is a valid URL.\n"
     ]
    }
   ],
   "source": [
    "# Check if a string is a valid URL.\n",
    "\n",
    "import validators\n",
    "\n",
    "def valid_url(URL):\n",
    "    return validators.url(URL)\n",
    "\n",
    "input_url=input(\"Enter the URL:- \")\n",
    "if valid_url(input_url):\n",
    "    print(\"{} is a valid URL.\".format(input_url))\n",
    "else:\n",
    "    print(\"{} is not a valid URL.\".format(input_url))"
   ]
  },
  {
   "cell_type": "code",
   "execution_count": 33,
   "metadata": {},
   "outputs": [
    {
     "name": "stdout",
     "output_type": "stream",
     "text": [
      "Enter the valid URL:  https://gray-analyst-aimlb.pwskills.app/lab/tree\n",
      "The protocol name in the URL is: https\n"
     ]
    }
   ],
   "source": [
    "# Extract the protocol (http or https) from a URL string.\n",
    "\n",
    "def valid_url(url):\n",
    "    protocol = url.split(\":\")[0]\n",
    "    return protocol\n",
    "\n",
    "s=input()\n",
    "print(\"Enter the valid URL: \",s)\n",
    "t=valid_url(s)\n",
    "print(\"The protocol name in the URL is: {}\".format(t))\n"
   ]
  },
  {
   "cell_type": "code",
   "execution_count": 48,
   "metadata": {},
   "outputs": [
    {
     "name": "stdout",
     "output_type": "stream",
     "text": [
      "the 'H' occurs 1 times\n",
      "the 'e' occurs 1 times\n",
      "the 'l' occurs 3 times\n",
      "the 'o' occurs 2 times\n",
      "the ' ' occurs 1 times\n",
      "the 'W' occurs 1 times\n",
      "the 'r' occurs 1 times\n",
      "the 'd' occurs 1 times\n",
      "the '!' occurs 1 times\n"
     ]
    }
   ],
   "source": [
    "# Find the frequency of each character in a string.\n",
    "\n",
    "def frequency_counter(input_string):\n",
    "    frequency={}\n",
    "    for char in input_string:\n",
    "        if char in frequency:\n",
    "            frequency[char]+=1\n",
    "        else:\n",
    "            frequency[char]=1\n",
    "            \n",
    "    return frequency\n",
    "\n",
    "user_input=input(\"Enter the string:- \")\n",
    "\n",
    "char_freq=frequency_counter(user_input)\n",
    "\n",
    "\n",
    "for char,freq in char_freq.items():\n",
    "    print(f\"the '{char}' occurs {freq} times\")"
   ]
  },
  {
   "cell_type": "code",
   "execution_count": 54,
   "metadata": {},
   "outputs": [
    {
     "name": "stdout",
     "output_type": "stream",
     "text": [
      "h = 1\n",
      "l = 3\n",
      "o = 2\n",
      "w = 1\n",
      "r = 1\n",
      "d = 1\n"
     ]
    }
   ],
   "source": [
    "s='hello world'\n",
    "l=list(s)\n",
    "for i in l:\n",
    "    print(i,'=',l.count(i))\n",
    "    l.remove(i)"
   ]
  },
  {
   "cell_type": "code",
   "execution_count": 55,
   "metadata": {},
   "outputs": [
    {
     "name": "stdout",
     "output_type": "stream",
     "text": [
      "Enter any string:  Hello World! How are you?\n",
      "The string after removing Ounctuation:  Hello World How are you\n"
     ]
    }
   ],
   "source": [
    "# Remove all punctuation from a string.\n",
    "\n",
    "s=input()\n",
    "print(\"Enter any string: \",s)\n",
    "punc='''!()-[]{};:'\"\\,<>./?@#$%^&*_~'''\n",
    "for i in s:\n",
    "    if i in punc:\n",
    "        s=s.replace(i,'')\n",
    "print(\"The string after removing Ounctuation: \",s)"
   ]
  },
  {
   "cell_type": "code",
   "execution_count": 62,
   "metadata": {},
   "outputs": [
    {
     "name": "stdout",
     "output_type": "stream",
     "text": [
      "Enter any string:  1234567\n",
      "String only contains digits\n"
     ]
    }
   ],
   "source": [
    "# Check if a string contains only digits.\n",
    "\n",
    "s=input()\n",
    "print(\"Enter any string: \",s)\n",
    "if s.isdigit():\n",
    "    print(\"String only contains digits\")\n",
    "else:\n",
    "    print(\"doesn't contains only digits\")"
   ]
  },
  {
   "cell_type": "code",
   "execution_count": 63,
   "metadata": {},
   "outputs": [
    {
     "name": "stdout",
     "output_type": "stream",
     "text": [
      "Enter any string:  abcde\n",
      "String only contains aphabets\n"
     ]
    }
   ],
   "source": [
    "# Check if a string contains only alphabets.\n",
    "\n",
    "s=input()\n",
    "print(\"Enter any string: \",s)\n",
    "if s.isalpha():\n",
    "    print(\"String only contains aphabets\")\n",
    "else:\n",
    "    print(\"doesn't contains only alphabets\")"
   ]
  },
  {
   "cell_type": "code",
   "execution_count": 65,
   "metadata": {},
   "outputs": [
    {
     "name": "stdout",
     "output_type": "stream",
     "text": [
      "Enter any string:  Hello World! How are you?\n",
      "list of characters:  ['Hello', 'World!', 'How', 'are', 'you?']\n"
     ]
    }
   ],
   "source": [
    "# Convert a string to a list of characters.\n",
    "\n",
    "s=input()\n",
    "print(\"Enter any string: \",s)\n",
    "l=s.split()\n",
    "print(\"list of characters: \",l)"
   ]
  },
  {
   "cell_type": "code",
   "execution_count": 66,
   "metadata": {},
   "outputs": [
    {
     "name": "stdout",
     "output_type": "stream",
     "text": [
      "Enter any string:  listen\n",
      "Enter any string:  silent\n",
      "The strings are anagrams\n"
     ]
    }
   ],
   "source": [
    "# Check if two strings are anagrams.\n",
    "\n",
    "s1=input()\n",
    "print(\"Enter any string: \",s1)\n",
    "s2=input()\n",
    "print(\"Enter any string: \",s2)\n",
    "if sorted(s1)==sorted(s2):\n",
    "    print(\"The strings are anagrams\")\n",
    "else:\n",
    "    print(\"The strings are not anagrams\")"
   ]
  },
  {
   "cell_type": "code",
   "execution_count": 14,
   "metadata": {},
   "outputs": [
    {
     "name": "stdout",
     "output_type": "stream",
     "text": [
      "Enter any string:  Hello World!\n",
      "Enter the shift key:  3\n",
      "Encoded Text:  Khoor Zruog!\n"
     ]
    }
   ],
   "source": [
    "# Encode a string using a Caesar cipher.\n",
    "\n",
    "import string\n",
    "sentence=input()\n",
    "print(\"Enter any string: \",sentence)\n",
    "result=\"\"\n",
    "shift=int(input())\n",
    "print(\"Enter the shift key: \",shift)\n",
    "\n",
    "for char in sentence:\n",
    "    if char==\" \":\n",
    "        result+=char\n",
    "    elif char in string.punctuation:\n",
    "        result+=char\n",
    "    elif char.isupper():\n",
    "        if (ord(char)+shift>90):\n",
    "            result+=chr(65+(shift-abs(ord(char)-90)-1))\n",
    "        else:\n",
    "            result+=chr(ord(char)+shift)\n",
    "\n",
    "    elif char.islower():\n",
    "        if (ord(char)+shift>122):\n",
    "            result+=chr(97+(shift-abs(ord(char)-122)-1))\n",
    "        else:\n",
    "            result+=chr(ord(char)+shift)\n",
    "\n",
    "print(\"Encoded Text: \", result)"
   ]
  },
  {
   "cell_type": "code",
   "execution_count": 16,
   "metadata": {},
   "outputs": [
    {
     "name": "stdout",
     "output_type": "stream",
     "text": [
      "Enter any string:  Khoor Zruog\n",
      "Enter the shift key:  3\n",
      "Decoded string:  bello qorld\n"
     ]
    }
   ],
   "source": [
    "# Decode a Caesar cipher encoded string.\n",
    "\n",
    "def decrypt(text,shift):\n",
    "    decoded_text=\"\"\n",
    "    for char in text:\n",
    "        if char.isalpha():\n",
    "            decoded_char = chr((ord(char) - shift - ord('a')) % 26 + ord('a'))\n",
    "        else:\n",
    "            decoded_char=char\n",
    "        decoded_text+=decoded_char\n",
    "    return decoded_text\n",
    "\n",
    "text=input()\n",
    "print(\"Enter any string: \",text)\n",
    "shift=int(input())\n",
    "print(\"Enter the shift key: \",shift)\n",
    "\n",
    "decoded_text=decrypt(text,shift)\n",
    "print(\"Decoded string: \",decoded_text)       "
   ]
  },
  {
   "cell_type": "code",
   "execution_count": 21,
   "metadata": {},
   "outputs": [
    {
     "name": "stdout",
     "output_type": "stream",
     "text": [
      "Enter any string:  Hello World Hello\n",
      "a= ['Hello', 'World', 'Hello']\n",
      "b= ['World', 'Hello']\n",
      "The most frequent word in the given String is Hello\n"
     ]
    }
   ],
   "source": [
    "# Find the most frequent word in a string.\n",
    "\n",
    "s=input()\n",
    "print(\"Enter any string: \",s)\n",
    "a=s.split(\" \")\n",
    "print(\"a=\",a)\n",
    "b=list(set(a))\n",
    "print(\"b=\",b)\n",
    "count=0\n",
    "max=0\n",
    "for i in b:\n",
    "    z=a.count(i)\n",
    "    if z>count:\n",
    "        max=i\n",
    "        count=z\n",
    "print(\"The most frequent word in the given String is\",max)"
   ]
  },
  {
   "cell_type": "code",
   "execution_count": 26,
   "metadata": {},
   "outputs": [
    {
     "name": "stdout",
     "output_type": "stream",
     "text": [
      "Enter any string:  Hello World! Hello This is Kajal Kajal from from Bihar\n",
      "a= ['Hello', 'World!', 'Hello', 'This', 'is', 'Kajal', 'Kajal', 'from', 'from', 'Bihar']\n",
      "is\n",
      "Kajal\n",
      "Bihar\n",
      "This\n",
      "World!\n",
      "Hello\n",
      "from\n"
     ]
    }
   ],
   "source": [
    "# Find all unique words in a string.\n",
    "\n",
    "s=input()\n",
    "print(\"Enter any string: \", s)\n",
    "a=s.split(\" \")\n",
    "print(\"a=\", a)\n",
    "x=set(a)\n",
    "for i in x:\n",
    "    print(i)"
   ]
  },
  {
   "cell_type": "code",
   "execution_count": 43,
   "metadata": {},
   "outputs": [
    {
     "name": "stdout",
     "output_type": "stream",
     "text": [
      "The word 'satata' has 3 syllables.\n"
     ]
    }
   ],
   "source": [
    "# Count the number of syllables in a string.\n",
    "\n",
    "def count_syllables(word):\n",
    "    vowels = \"aeiouAEIOU\"\n",
    "    count = 0\n",
    "    prev_char = None\n",
    "\n",
    "    for char in word:\n",
    "        if char in vowels and prev_char not in vowels:\n",
    "            count += 1\n",
    "        prev_char = char\n",
    "\n",
    "    if word.endswith('e'):\n",
    "        count -= 1\n",
    "\n",
    "    return max(1, count)  # Minimum syllable count is 1\n",
    "\n",
    "input_word = \"satata\"\n",
    "syllable_count = count_syllables(input_word)\n",
    "print(f\"The word '{input_word}' has {syllable_count} syllables.\")"
   ]
  },
  {
   "cell_type": "code",
   "execution_count": 30,
   "metadata": {},
   "outputs": [
    {
     "name": "stdout",
     "output_type": "stream",
     "text": [
      "Enter any string:  K@j@l\n",
      "String contains special characters. K@j@l\n"
     ]
    }
   ],
   "source": [
    "# Check if a string contains any special characters.\n",
    "\n",
    "import string\n",
    "s=input()\n",
    "print(\"Enter any string: \", s)\n",
    "for char in s:\n",
    "    if char in string.punctuation:\n",
    "        contains_special_characters = True\n",
    "        break \n",
    "if contains_special_characters:\n",
    "    print(\"String contains special characters.\",s)\n",
    "else:\n",
    "    print(\"String does not contains special characters.\",s)"
   ]
  },
  {
   "cell_type": "code",
   "execution_count": 33,
   "metadata": {},
   "outputs": [
    {
     "name": "stdout",
     "output_type": "stream",
     "text": [
      "Enter any string:  Hello World! How are you?\n",
      "Enter any number:  2\n",
      "After removing the nth word from the string:  Hello World! are you?\n"
     ]
    }
   ],
   "source": [
    "# Remove the nth word from a string.\n",
    "\n",
    "s=input()\n",
    "print(\"Enter any string: \", s)\n",
    "a=s.split()\n",
    "n=int(input())\n",
    "print(\"Enter any number: \",n)\n",
    "if n<=len(a):\n",
    "    a.pop(n)\n",
    "    result=\" \".join(a)\n",
    "    print(\"After removing the nth word from the string: \", result)\n",
    "else:\n",
    "    print(f\"The index {n} is out of range.\")\n"
   ]
  },
  {
   "cell_type": "code",
   "execution_count": 35,
   "metadata": {},
   "outputs": [
    {
     "name": "stdout",
     "output_type": "stream",
     "text": [
      "Enter any string:  Full Stack Science Batch Pro\n",
      "Enter the word to insert:  Data\n",
      "Enter any number:  2\n",
      "The index 2 is out of range\n"
     ]
    }
   ],
   "source": [
    "#  Insert a word at the nth position in a string.\n",
    "\n",
    "s=input()\n",
    "print(\"Enter any string: \",s)\n",
    "a=input()\n",
    "print(\"Enter the word to insert: \",a)\n",
    "n=int(input())\n",
    "print(\"Enter any number: \",n)\n",
    "if n>len(s):\n",
    "    result=s[:n]+a+s[n:]\n",
    "    print(\"String after inserting the word: \",result)\n",
    "else:\n",
    "    print(f\"The index {n} is out of range\")"
   ]
  },
  {
   "cell_type": "code",
   "execution_count": 37,
   "metadata": {},
   "outputs": [
    {
     "name": "stdout",
     "output_type": "stream",
     "text": [
      "Enter the list of Strings:  Hello,World,How,Are,You\n",
      "[['Hello', 'World', 'How', 'Are', 'You']]\n"
     ]
    }
   ],
   "source": [
    "# Convert a CSV string to a list of lists.\n",
    "\n",
    "z=[]\n",
    "s=input()\n",
    "print(\"Enter the list of Strings: \", s)\n",
    "a=s.split(\",\")\n",
    "z.append(a)\n",
    "print(z)"
   ]
  },
  {
   "cell_type": "markdown",
   "metadata": {},
   "source": [
    "## List Based Practice Problem :"
   ]
  },
  {
   "cell_type": "code",
   "execution_count": 4,
   "metadata": {},
   "outputs": [
    {
     "name": "stdout",
     "output_type": "stream",
     "text": [
      "List of Integers are :  [1, 2, 3, 4, 5, 6, 7, 8, 9, 10]\n"
     ]
    }
   ],
   "source": [
    "# Create a list with integers from 1 to 10.\n",
    "\n",
    "l=[1,2,3,4,5,6,7,8,9,10]\n",
    "print(\"List of Integers are : \",l)"
   ]
  },
  {
   "cell_type": "code",
   "execution_count": 8,
   "metadata": {},
   "outputs": [
    {
     "name": "stdout",
     "output_type": "stream",
     "text": [
      "The length of a list is 10\n"
     ]
    }
   ],
   "source": [
    "# Find the length of a list without using the `len()` function.\n",
    "\n",
    "l=[1,2,3,4,5,6,7,8,9,10]\n",
    "count=0\n",
    "for i in l:\n",
    "    count+=1\n",
    "print(\"The length of a list is\",count)"
   ]
  },
  {
   "cell_type": "code",
   "execution_count": 13,
   "metadata": {},
   "outputs": [
    {
     "name": "stdout",
     "output_type": "stream",
     "text": [
      "[1, 2, 3, 4, 5, 6]\n"
     ]
    }
   ],
   "source": [
    "# Append an element to the end of a list.\n",
    "\n",
    "l=[1,2,3,4,5]\n",
    "l1=l.append(6)\n",
    "print(l)"
   ]
  },
  {
   "cell_type": "code",
   "execution_count": 14,
   "metadata": {},
   "outputs": [
    {
     "name": "stdout",
     "output_type": "stream",
     "text": [
      "['C', 'C++', 'Json', 'Java', 'Python']\n"
     ]
    }
   ],
   "source": [
    "# Insert an element at a specific index in a list.\n",
    "\n",
    "l1=[\"C\",\"C++\",\"Java\",\"Python\"]\n",
    "l1.insert(2,\"Json\")\n",
    "print(l1)"
   ]
  },
  {
   "cell_type": "code",
   "execution_count": 15,
   "metadata": {},
   "outputs": [
    {
     "name": "stdout",
     "output_type": "stream",
     "text": [
      "['C', 'Json', 'Java', 'Python']\n"
     ]
    }
   ],
   "source": [
    "# Remove an element from a list by its value.\n",
    "\n",
    "l=['C', 'C++', 'Json', 'Java', 'Python']\n",
    "l.remove('C++')\n",
    "print(l)"
   ]
  },
  {
   "cell_type": "code",
   "execution_count": 16,
   "metadata": {},
   "outputs": [
    {
     "name": "stdout",
     "output_type": "stream",
     "text": [
      "['C', 'C++', 'Json', 'Python']\n"
     ]
    }
   ],
   "source": [
    "# Remove an element from a list by its index.\n",
    "\n",
    "l=['C', 'C++', 'Json', 'Java', 'Python']\n",
    "l.pop(3)\n",
    "print(l)"
   ]
  },
  {
   "cell_type": "code",
   "execution_count": 19,
   "metadata": {},
   "outputs": [
    {
     "name": "stdout",
     "output_type": "stream",
     "text": [
      "Enter an element:  C++\n",
      "Yes the element is present in the list\n"
     ]
    }
   ],
   "source": [
    "# Check if an element exists in a list.\n",
    "\n",
    "l=['C', 'C++', 'Json', 'Java', 'Python']\n",
    "element=input()\n",
    "print(\"Enter an element: \",element)\n",
    "if element in l:\n",
    "    print(\"Yes the element is present in the list\")\n",
    "else:\n",
    "    print(\"No the element is not present in the list\")"
   ]
  },
  {
   "cell_type": "code",
   "execution_count": 23,
   "metadata": {},
   "outputs": [
    {
     "name": "stdout",
     "output_type": "stream",
     "text": [
      "The index of the first occurence of an element is  1\n"
     ]
    }
   ],
   "source": [
    "# Find the index of the first occurrence of an element in a list.\n",
    "\n",
    "l=['C', 'C++', 'Json', 'Java', 'Python']\n",
    "l1=l.index('C++')\n",
    "print(\"The index of the first occurence of an element is \", l1)"
   ]
  },
  {
   "cell_type": "code",
   "execution_count": 24,
   "metadata": {},
   "outputs": [
    {
     "name": "stdout",
     "output_type": "stream",
     "text": [
      "Enter an element:  C++\n",
      "Number of occurrences:  2\n"
     ]
    }
   ],
   "source": [
    "# Count the occurrences of an element in a list.\n",
    "\n",
    "l=['C', 'C++', 'Json', 'Java', 'Python','C++']\n",
    "element=input()\n",
    "print(\"Enter an element: \", element)\n",
    "l1=l.count(element)\n",
    "print(\"Number of occurrences: \", l1)"
   ]
  },
  {
   "cell_type": "code",
   "execution_count": 25,
   "metadata": {},
   "outputs": [
    {
     "name": "stdout",
     "output_type": "stream",
     "text": [
      "Original List:  ['C', 'C++', 'Json', 'Java', 'Python', 'C++']\n",
      "Reversed List:  ['C++', 'Python', 'Java', 'Json', 'C++', 'C']\n"
     ]
    }
   ],
   "source": [
    "# Reverse the order of elements in a list.\n",
    "\n",
    "l=['C', 'C++', 'Json', 'Java', 'Python','C++']\n",
    "reversed_list=l[::-1]\n",
    "print(\"Original List: \",l)\n",
    "print(\"Reversed List: \",reversed_list)"
   ]
  },
  {
   "cell_type": "code",
   "execution_count": 26,
   "metadata": {},
   "outputs": [
    {
     "name": "stdout",
     "output_type": "stream",
     "text": [
      "[12, 24, 25, 35, 56, 89]\n"
     ]
    }
   ],
   "source": [
    "# Sort a list in ascending order.\n",
    "\n",
    "list=[12,56,24,89,35,25]\n",
    "list.sort()\n",
    "print(list)"
   ]
  },
  {
   "cell_type": "code",
   "execution_count": 28,
   "metadata": {},
   "outputs": [
    {
     "name": "stdout",
     "output_type": "stream",
     "text": [
      "[89, 56, 35, 25, 24, 12]\n"
     ]
    }
   ],
   "source": [
    "# Sort a list in descending order.\n",
    "\n",
    "list=[12,56,24,89,35,25]\n",
    "list.sort(reverse=True)\n",
    "print(list)"
   ]
  },
  {
   "cell_type": "code",
   "execution_count": 37,
   "metadata": {},
   "outputs": [
    {
     "name": "stdout",
     "output_type": "stream",
     "text": [
      "[2, 4, 6, 8, 10, 12, 14, 16, 18, 20]\n"
     ]
    }
   ],
   "source": [
    "# Create a list of even numbers from 1 to 20.\n",
    "\n",
    "l=[]\n",
    "for i in range(1,21):\n",
    "    if i%2==0:\n",
    "        l.append(i)\n",
    "print(l)\n"
   ]
  },
  {
   "cell_type": "code",
   "execution_count": 38,
   "metadata": {},
   "outputs": [
    {
     "name": "stdout",
     "output_type": "stream",
     "text": [
      "[1, 3, 5, 7, 9, 11, 13, 15, 17, 19]\n"
     ]
    }
   ],
   "source": [
    "# Create a list of odd numbers from 1 to 20.\n",
    "\n",
    "l=[]\n",
    "for i in range(1,21):\n",
    "    if i%2!=0:\n",
    "        l.append(i)\n",
    "print(l)"
   ]
  },
  {
   "cell_type": "code",
   "execution_count": 57,
   "metadata": {},
   "outputs": [
    {
     "name": "stdout",
     "output_type": "stream",
     "text": [
      "The sum of all elements in a list is 37\n"
     ]
    }
   ],
   "source": [
    "# Find the sum of all elements in a list.\n",
    "\n",
    "lis=[2,3,5,7,8,4,6,2]\n",
    "sum=0\n",
    "for i in lis:\n",
    "    sum=sum+i\n",
    "print(\"The sum of all elements in a list is\",sum)"
   ]
  },
  {
   "cell_type": "code",
   "execution_count": 44,
   "metadata": {},
   "outputs": [
    {
     "name": "stdout",
     "output_type": "stream",
     "text": [
      "The maximum value in a list is 96\n"
     ]
    }
   ],
   "source": [
    "# Find the maximum value in a list.\n",
    "\n",
    "l=[23,45,78,12,10,96,72]\n",
    "a=max(l)\n",
    "print(\"The maximum value in a list is\",a)"
   ]
  },
  {
   "cell_type": "code",
   "execution_count": 46,
   "metadata": {},
   "outputs": [
    {
     "name": "stdout",
     "output_type": "stream",
     "text": [
      "The minimum value in a list is 10\n"
     ]
    }
   ],
   "source": [
    "# Find the minimum value in a list.\n",
    "\n",
    "l=[23,45,78,12,10,96,72]\n",
    "a=min(l)\n",
    "print(\"The minimum value in a list is\",a)"
   ]
  },
  {
   "cell_type": "code",
   "execution_count": 49,
   "metadata": {},
   "outputs": [
    {
     "name": "stdout",
     "output_type": "stream",
     "text": [
      "The squares of numbers are [1, 4, 9, 16, 25, 36, 49, 64, 81, 100]\n"
     ]
    }
   ],
   "source": [
    "# Create a list of squares of numbers from 1 to 10\n",
    "\n",
    "l=[]\n",
    "for i in range(1,11):\n",
    "    l.append(i**2)\n",
    "print(\"The squares of numbers are\",l)"
   ]
  },
  {
   "cell_type": "code",
   "execution_count": 5,
   "metadata": {},
   "outputs": [
    {
     "name": "stdout",
     "output_type": "stream",
     "text": [
      "Random number in a list are: [13, 2, 16, 4, 15, 3, 19]\n"
     ]
    }
   ],
   "source": [
    "# Create a list of random numbers.\n",
    "\n",
    "import random\n",
    "\n",
    "l=random.sample(range(1,20),7)\n",
    "print(\"Random number in a list are:\",l)\n"
   ]
  },
  {
   "cell_type": "code",
   "execution_count": 1,
   "metadata": {},
   "outputs": [
    {
     "name": "stdout",
     "output_type": "stream",
     "text": [
      "After removing the duplicates: [2, 3, 4, 5]\n"
     ]
    }
   ],
   "source": [
    "# Remove duplicates from a list.\n",
    "\n",
    "l=[2,4,3,2,5,4,3]\n",
    "a=list(set(l))\n",
    "print(\"After removing the duplicates:\",a)"
   ]
  },
  {
   "cell_type": "code",
   "execution_count": 8,
   "metadata": {},
   "outputs": [
    {
     "name": "stdout",
     "output_type": "stream",
     "text": [
      "Common Elements are: [3, 7, 9]\n"
     ]
    }
   ],
   "source": [
    "# Find the common elements between two lists.\n",
    "\n",
    "l1=[2,3,4,7,8,9]\n",
    "l2=[5,9,3,5,7]\n",
    "\n",
    "l3=[i for i in l1 if i in l2]\n",
    "print(\"Common Elements are:\",l3)\n"
   ]
  },
  {
   "cell_type": "code",
   "execution_count": 9,
   "metadata": {},
   "outputs": [
    {
     "name": "stdout",
     "output_type": "stream",
     "text": [
      "Difference between two lists are: [2, 4, 8]\n"
     ]
    }
   ],
   "source": [
    "# Find the difference between two lists.\n",
    "\n",
    "l1=[2,3,4,7,8,9]\n",
    "l2=[5,9,3,5,7]\n",
    "\n",
    "l3=[i for i in l1 if i not in l2]\n",
    "print(\"Difference between two lists are:\",l3)"
   ]
  },
  {
   "cell_type": "code",
   "execution_count": 12,
   "metadata": {},
   "outputs": [
    {
     "name": "stdout",
     "output_type": "stream",
     "text": [
      "l3 = [2, 3, 4, 7, 8, 9, 5, 9, 3, 5, 7]\n"
     ]
    }
   ],
   "source": [
    "# Merge two lists.\n",
    "\n",
    "l1=[2,3,4,7,8,9]\n",
    "l2=[5,9,3,5,7]\n",
    "\n",
    "l3=l1+l2\n",
    "print(\"l3 =\",l3)"
   ]
  },
  {
   "cell_type": "code",
   "execution_count": 11,
   "metadata": {},
   "outputs": [
    {
     "name": "stdout",
     "output_type": "stream",
     "text": [
      "l2 = [4, 6, 8, 14, 16, 18]\n"
     ]
    }
   ],
   "source": [
    "# Multiply all elements in a list by 2.\n",
    "\n",
    "l1=[2,3,4,7,8,9]\n",
    "l2=[i*2 for i in l1]\n",
    "print(\"l2 =\",l2)"
   ]
  },
  {
   "cell_type": "code",
   "execution_count": 14,
   "metadata": {},
   "outputs": [
    {
     "name": "stdout",
     "output_type": "stream",
     "text": [
      "l2 = [2, 18, 24, 82, 48]\n"
     ]
    }
   ],
   "source": [
    "# Filter out all even numbers from a list\n",
    "\n",
    "l=[2,7,18,19,24,35,67,82,48]\n",
    "l2=[i for i in l if i%2==0]\n",
    "print(\"l2 =\",l2)"
   ]
  },
  {
   "cell_type": "code",
   "execution_count": 16,
   "metadata": {},
   "outputs": [
    {
     "name": "stdout",
     "output_type": "stream",
     "text": [
      "l = ['1', '2', '3', '4', '5']\n",
      "l2 = [1, 2, 3, 4, 5]\n"
     ]
    }
   ],
   "source": [
    "# Convert a list of strings to a list of integers.\n",
    "\n",
    "l=[\"1\",\"2\",\"3\",\"4\",\"5\"]\n",
    "l2=[int(i) for i in l]\n",
    "print(\"l =\",l)\n",
    "print(\"l2 =\",l2)"
   ]
  },
  {
   "cell_type": "code",
   "execution_count": 17,
   "metadata": {},
   "outputs": [
    {
     "name": "stdout",
     "output_type": "stream",
     "text": [
      "l = [1, 2, 3, 4, 5]\n",
      "l2 = ['1', '2', '3', '4', '5']\n"
     ]
    }
   ],
   "source": [
    "# Convert a list of integers to a list of strings.\n",
    "\n",
    "l=[1, 2, 3, 4, 5]\n",
    "l2=[str(i) for i in l]\n",
    "print(\"l =\",l)\n",
    "print(\"l2 =\",l2)"
   ]
  },
  {
   "cell_type": "code",
   "execution_count": 28,
   "metadata": {},
   "outputs": [
    {
     "name": "stdout",
     "output_type": "stream",
     "text": [
      "[11, 22, 33, 44, 55, 66, 77, 88, 99, 100]\n"
     ]
    }
   ],
   "source": [
    "# Flatten a nested list.\n",
    "\n",
    "l=[[11, 22, 33, 44], [55, 66, 77], [88, 99, 100]]\n",
    "l2=[]\n",
    "for i in l:\n",
    "    for j in i:\n",
    "        l2.append(j)\n",
    "print(l2)"
   ]
  },
  {
   "cell_type": "code",
   "execution_count": 34,
   "metadata": {},
   "outputs": [
    {
     "name": "stdout",
     "output_type": "stream",
     "text": [
      "The first 10 Fibonacci numbers are: [0, 1, 1, 2, 3, 5, 8, 13, 21, 34]\n"
     ]
    }
   ],
   "source": [
    "# Create a list of the first 10 Fibonacci numbers.\n",
    "\n",
    "l=[0,1]\n",
    "n=int(input())\n",
    "for i in range(2,n):\n",
    "    l1=l[i-1]+l[i-2]\n",
    "    l.append(l1)\n",
    "print(\"The first 10 Fibonacci numbers are:\",l)"
   ]
  },
  {
   "cell_type": "code",
   "execution_count": 46,
   "metadata": {},
   "outputs": [
    {
     "name": "stdout",
     "output_type": "stream",
     "text": [
      "l =  [1, 2, 3, 4, 5]\n",
      "Yes,it's the sorted list\n"
     ]
    }
   ],
   "source": [
    "# Check if a list is sorted.\n",
    "\n",
    "l=[1,2,3,4,5]\n",
    "print(\"l = \", l)\n",
    "flag_value=0\n",
    "\n",
    "for i in range(1,len(l)):\n",
    "    if l[i]<l[i-1]:\n",
    "        flag_value=1\n",
    "\n",
    "if(not flag_value):\n",
    "    print(\"Yes,it's the sorted list\")\n",
    "else:\n",
    "    print(\"It's not the sorted list\")"
   ]
  },
  {
   "cell_type": "code",
   "execution_count": 51,
   "metadata": {},
   "outputs": [
    {
     "name": "stdout",
     "output_type": "stream",
     "text": [
      "Given list = [1, 2, 3, 4, 5, 6, 7]\n",
      "n = 2\n",
      "l = [3, 4, 5, 6, 7, 1, 2]\n"
     ]
    }
   ],
   "source": [
    "# Rotate a list to the left by n positions.\n",
    "\n",
    "l=[1,2,3,4,5,6,7]\n",
    "print(\"Given list =\",l)\n",
    "n=int(input())\n",
    "print(\"n =\",n)\n",
    "\n",
    "l=l[n:]+l[:n]\n",
    "print(\"l =\",l)"
   ]
  },
  {
   "cell_type": "code",
   "execution_count": 52,
   "metadata": {},
   "outputs": [
    {
     "name": "stdout",
     "output_type": "stream",
     "text": [
      "given list = [1, 2, 3, 4, 5, 6, 7]\n",
      "n = 3\n",
      "l = [5, 6, 7, 1, 2, 3, 4]\n"
     ]
    }
   ],
   "source": [
    "# Rotate a list to the right by n positions.\n",
    "\n",
    "l=[1,2,3,4,5,6,7]\n",
    "print(\"given list =\",l)\n",
    "n=int(input())\n",
    "print(\"n =\",n)\n",
    "\n",
    "l=l[-n:]+l[:-n]\n",
    "print(\"l =\",l)"
   ]
  },
  {
   "cell_type": "code",
   "execution_count": 8,
   "metadata": {},
   "outputs": [
    {
     "name": "stdout",
     "output_type": "stream",
     "text": [
      "l = [2, 3, 5, 7, 11, 13, 17, 19, 23, 29, 31, 37, 41, 43, 47]\n"
     ]
    }
   ],
   "source": [
    "# Create a list of prime numbers up to 50.\n",
    "\n",
    "l=[]\n",
    "\n",
    "for i in range(2,51):\n",
    "    for j in range(2,i):\n",
    "        if i%j==0:\n",
    "            break\n",
    "    else:\n",
    "        l.append(i)\n",
    "print(\"l =\",l)"
   ]
  },
  {
   "cell_type": "code",
   "execution_count": 8,
   "metadata": {},
   "outputs": [
    {
     "name": "stdout",
     "output_type": "stream",
     "text": [
      "[[1, 2], [3, 4], [5, 7]]\n"
     ]
    }
   ],
   "source": [
    "# split a list into chunks of size n.\n",
    "\n",
    "original_list=[1,2,3,4,5,7]\n",
    "modified_list=[]\n",
    "previous_element=0\n",
    "for index,element in enumerate(original_list):\n",
    "    if (index+1)%2==0:\n",
    "        modified_list.append([previous_element,element])\n",
    "    else:\n",
    "        previous_element=element\n",
    "print(modified_list)"
   ]
  },
  {
   "cell_type": "code",
   "execution_count": 2,
   "metadata": {},
   "outputs": [
    {
     "name": "stdout",
     "output_type": "stream",
     "text": [
      "l= [12, 41, 11, 34, 79, 84, 32]\n",
      "The second largest number in a list is 79\n"
     ]
    }
   ],
   "source": [
    "# Find the second largest number in a list.\n",
    "\n",
    "l=[12,41,11,34,79,84,32]\n",
    "print(\"l=\",l)\n",
    "\n",
    "sorted_list=sorted(l,reverse=True)\n",
    "\n",
    "if len(sorted_list)>=2:\n",
    "    second_largest=sorted_list[1]\n",
    "    print(\"The second largest number in a list is {}\".format(second_largest))\n",
    "else:\n",
    "    print(\"There is no second largest number in a list\")"
   ]
  },
  {
   "cell_type": "code",
   "execution_count": 3,
   "metadata": {},
   "outputs": [
    {
     "name": "stdout",
     "output_type": "stream",
     "text": [
      "The Original list: [2, 3, 4, 5, 6]\n",
      "The modified list: [4, 9, 16, 25, 36]\n"
     ]
    }
   ],
   "source": [
    "# Replace every element in a list with its square.\n",
    "\n",
    "l=[2,3,4,5,6]\n",
    "print(\"The Original list:\",l)\n",
    "l1=[]\n",
    "\n",
    "for i in l:\n",
    "    l1.append(i**2)\n",
    "print(\"The modified list:\",l1)"
   ]
  },
  {
   "cell_type": "code",
   "execution_count": 4,
   "metadata": {},
   "outputs": [
    {
     "name": "stdout",
     "output_type": "stream",
     "text": [
      "l= ['abc', 'cde', 'efg', 'ghi', 'ijk']\n",
      "dict= {'abc': 0, 'cde': 1, 'efg': 2, 'ghi': 3, 'ijk': 4}\n"
     ]
    }
   ],
   "source": [
    "# Convert a list to a dictionary where list elements become keys and their indices become values.\n",
    "\n",
    "l=[\"abc\",\"cde\",\"efg\",\"ghi\",\"ijk\"]\n",
    "print(\"l=\",l)\n",
    "dict={}\n",
    "\n",
    "for keys,values in enumerate(l):\n",
    "    dict[values]=keys\n",
    "print(\"dict=\",dict)"
   ]
  },
  {
   "cell_type": "code",
   "execution_count": 5,
   "metadata": {},
   "outputs": [
    {
     "name": "stdout",
     "output_type": "stream",
     "text": [
      "The randomly shuffled elements are [2, 68, 78, 3, 95, 5]\n"
     ]
    }
   ],
   "source": [
    "# Shuffle the elements of a list randomly.\n",
    "\n",
    "import random\n",
    "\n",
    "l=[3,5,2,78,95,68]\n",
    "random.shuffle(l)\n",
    "\n",
    "print(\"The randomly shuffled elements are\",l)"
   ]
  },
  {
   "cell_type": "code",
   "execution_count": 19,
   "metadata": {},
   "outputs": [
    {
     "name": "stdout",
     "output_type": "stream",
     "text": [
      "[1, 2, 6, 24, 120, 720, 5040, 40320, 362880, 3628800]\n"
     ]
    }
   ],
   "source": [
    "# Create a list of the first 10 factorial numbers.\n",
    "\n",
    "def fact(n):\n",
    "    if n==0:\n",
    "        return True\n",
    "    else:\n",
    "        return (n*fact(n-1))\n",
    "    \n",
    "factorial=[fact(i) for i in range(1,10+1)]\n",
    "print(factorial)"
   ]
  },
  {
   "cell_type": "code",
   "execution_count": 22,
   "metadata": {},
   "outputs": [
    {
     "name": "stdout",
     "output_type": "stream",
     "text": [
      "Yes there is one common element\n",
      "[2]\n"
     ]
    }
   ],
   "source": [
    "# Check if two lists have at least one element in common.\n",
    "\n",
    "l=[1,2,3,4,5]\n",
    "l1=[6,7,8,2,9]\n",
    "\n",
    "set1=set(l)\n",
    "set2=set(l1)\n",
    "\n",
    "diff=set1.intersection(set2)\n",
    "\n",
    "if len(list(diff))==1:\n",
    "    print(\"Yes there is one common element\")\n",
    "    print(list(diff))\n",
    "else:\n",
    "    print(\"there are more than one common elements\")\n",
    "    print(\"common elements\",list(diff))"
   ]
  },
  {
   "cell_type": "code",
   "execution_count": 23,
   "metadata": {},
   "outputs": [
    {
     "name": "stdout",
     "output_type": "stream",
     "text": [
      "[]\n"
     ]
    }
   ],
   "source": [
    "# Remove all elements from a list.\n",
    "\n",
    "l=[1,2,3,4,5]\n",
    "l.clear()\n",
    "print(l)"
   ]
  },
  {
   "cell_type": "code",
   "execution_count": 27,
   "metadata": {},
   "outputs": [
    {
     "name": "stdout",
     "output_type": "stream",
     "text": [
      "The original list: [-34, -2, 3, 4, -35, 24, -12, 5]\n",
      "The modified list: [3, 4, 24, 5]\n"
     ]
    }
   ],
   "source": [
    "# Replace negative numbers in a list with 0.\n",
    "\n",
    "l=[-34,-2,3,4,-35,24,-12,5]\n",
    "print(\"The original list:\",l)\n",
    "mod_l=[]\n",
    "\n",
    "for i in l:\n",
    "    if i>0:\n",
    "        mod_l.append(i)\n",
    "    else:\n",
    "        0\n",
    "print(\"The modified list:\",mod_l)"
   ]
  },
  {
   "cell_type": "code",
   "execution_count": 30,
   "metadata": {},
   "outputs": [
    {
     "name": "stdout",
     "output_type": "stream",
     "text": [
      "The original list: Hello World!, How are you?\n",
      "The Modified list: ['Hello', 'World!,', 'How', 'are', 'you?']\n"
     ]
    }
   ],
   "source": [
    "# Convert a string into a list of words.\n",
    "\n",
    "l=\"Hello World!, How are you?\"\n",
    "l1=l.split()\n",
    "\n",
    "print(\"The original list:\",l)\n",
    "print(\"The Modified list:\",l1)"
   ]
  },
  {
   "cell_type": "code",
   "execution_count": 31,
   "metadata": {},
   "outputs": [
    {
     "name": "stdout",
     "output_type": "stream",
     "text": [
      "The original list: ['Hello', 'World!,', 'How', 'are', 'you?']\n",
      "The Modified list: Hello World!, How are you?\n"
     ]
    }
   ],
   "source": [
    "# Convert a list of words into a string.\n",
    "\n",
    "l=['Hello', 'World!,', 'How', 'are', 'you?']\n",
    "l1=' '.join(l)\n",
    "\n",
    "print(\"The original list:\",l)\n",
    "print(\"The Modified list:\",l1)"
   ]
  },
  {
   "cell_type": "code",
   "execution_count": 34,
   "metadata": {},
   "outputs": [
    {
     "name": "stdout",
     "output_type": "stream",
     "text": [
      "l= [1, 2, 4, 8, 16, 32, 64, 128, 256, 512]\n"
     ]
    }
   ],
   "source": [
    "# Create a list of the first n powers of 2.\n",
    "\n",
    "n=10\n",
    "l=[]\n",
    "\n",
    "for i in range(n):\n",
    "    l.append(2**i)\n",
    "print(\"l=\",l)"
   ]
  },
  {
   "cell_type": "code",
   "execution_count": 36,
   "metadata": {},
   "outputs": [
    {
     "name": "stdout",
     "output_type": "stream",
     "text": [
      "The longest string is World!,\n"
     ]
    }
   ],
   "source": [
    "#  Find the longest string in a list of strings.\n",
    "\n",
    "l=['Hello', 'World!,', 'How', 'are', 'you?']\n",
    "new_list=max(l,key=len)\n",
    "print(\"The longest string is\",new_list)"
   ]
  },
  {
   "cell_type": "code",
   "execution_count": 38,
   "metadata": {},
   "outputs": [
    {
     "name": "stdout",
     "output_type": "stream",
     "text": [
      "Enter any number: 7\n",
      "The first 7 triangular numbers are [1, 3, 6, 10, 15, 21, 28]\n"
     ]
    }
   ],
   "source": [
    "# Create a list of the first n triangular numbers.\n",
    "\n",
    "n=int(input())\n",
    "print(\"Enter any number:\",n)\n",
    "l=[]\n",
    "\n",
    "for i in range(1,n+1):\n",
    "    l.append(i*(i+1)//2)\n",
    "print(\"The first {} triangular numbers are {}\".format(n,l))"
   ]
  },
  {
   "cell_type": "code",
   "execution_count": 39,
   "metadata": {},
   "outputs": [
    {
     "name": "stdout",
     "output_type": "stream",
     "text": [
      "Original list :  [9, 4, 5, 8, 10]\n",
      "Original sub list :  [10, 5, 4]\n",
      "Yes, list is subset of other.\n"
     ]
    }
   ],
   "source": [
    "# Check if a list contains another list as a subsequence.\n",
    "\n",
    "lis = [9, 4, 5, 8, 10]\n",
    "sub_lis = [10, 5, 4]\n",
    " \n",
    "print(\"Original list : \",lis)\n",
    "print(\"Original sub list : \", sub_lis)\n",
    " \n",
    "flag = 0\n",
    "if(all(x in lis for x in sub_lis)):\n",
    "    flag = 1\n",
    " \n",
    "if (flag):\n",
    "    print(\"Yes, list is subset of other.\")\n",
    "else:\n",
    "    print(\"No, list is not subset of other.\")"
   ]
  },
  {
   "cell_type": "code",
   "execution_count": 42,
   "metadata": {},
   "outputs": [
    {
     "name": "stdout",
     "output_type": "stream",
     "text": [
      "l= [12, 67, 23, 35, 11, 65]\n"
     ]
    }
   ],
   "source": [
    "# Swap two elements in a list by their indices.\n",
    "\n",
    "l=[12,35,23,67,11,65]\n",
    "\n",
    "index1=1\n",
    "index2=3\n",
    "\n",
    "l[index1],l[index2]=l[index2],l[index1]\n",
    "print(\"l=\",l)"
   ]
  },
  {
   "cell_type": "markdown",
   "metadata": {},
   "source": [
    "### Tuple based question:"
   ]
  },
  {
   "cell_type": "code",
   "execution_count": 44,
   "metadata": {},
   "outputs": [
    {
     "name": "stdout",
     "output_type": "stream",
     "text": [
      "tup= (1, 2, 3, 4, 5)\n"
     ]
    }
   ],
   "source": [
    "# Create a tuple with integers from 1 to 5.\n",
    "\n",
    "tup=(1,2,3,4,5)\n",
    "print(\"tup=\",tup)"
   ]
  },
  {
   "cell_type": "code",
   "execution_count": 45,
   "metadata": {},
   "outputs": [
    {
     "name": "stdout",
     "output_type": "stream",
     "text": [
      "tup= 3\n"
     ]
    }
   ],
   "source": [
    "# Access the third element of a tuple.\n",
    "\n",
    "tup=(1,2,3,4,5)\n",
    "print(\"tup=\",tup[2])"
   ]
  },
  {
   "cell_type": "code",
   "execution_count": 46,
   "metadata": {},
   "outputs": [
    {
     "name": "stdout",
     "output_type": "stream",
     "text": [
      "The count of a tuple is 5\n"
     ]
    }
   ],
   "source": [
    "# Find the length of a tuple without using the len() function.\n",
    "\n",
    "tup=(1,2,3,4,5)\n",
    "count=0\n",
    "\n",
    "for i in tup:\n",
    "    count+=1\n",
    "print(\"The length of a tuple is\",count)"
   ]
  },
  {
   "cell_type": "code",
   "execution_count": 52,
   "metadata": {},
   "outputs": [
    {
     "name": "stdout",
     "output_type": "stream",
     "text": [
      "The occurence of an element is 3\n"
     ]
    }
   ],
   "source": [
    "# Count the occurrences of an element in a tuple.\n",
    "\n",
    "tup=(1,2,3,4,2,2,5,6,7)\n",
    "counter=tup.count(2)\n",
    "print(\"The occurence of an element is\",counter)"
   ]
  },
  {
   "cell_type": "code",
   "execution_count": 51,
   "metadata": {},
   "outputs": [
    {
     "name": "stdout",
     "output_type": "stream",
     "text": [
      "The index of an element is 6\n"
     ]
    }
   ],
   "source": [
    "# Find the index of the first occurrence of an element in a tuple.\n",
    "\n",
    "tup=(1,2,3,4,2,2,5,6,7)\n",
    "index=tup.index(5)\n",
    "print(\"The index of an element is\",index)"
   ]
  },
  {
   "cell_type": "code",
   "execution_count": 50,
   "metadata": {},
   "outputs": [
    {
     "name": "stdout",
     "output_type": "stream",
     "text": [
      "tup= (1, 2, 3, 4, 2, 2, 5, 6, 7)\n",
      "Enter any number: 5\n",
      "yes,5 exists in a tuple\n"
     ]
    }
   ],
   "source": [
    "# Check if an element exists in a tuple.\n",
    "\n",
    "tup=(1,2,3,4,2,2,5,6,7)\n",
    "print(\"tup=\",tup)\n",
    "\n",
    "n=int(input())\n",
    "print(\"Enter any number:\",n)\n",
    "\n",
    "if n in tup:\n",
    "    print(\"yes,{} exists in a tuple\".format(n))\n",
    "else:\n",
    "    print(\"no,{} exists in a tuple\".format(n))"
   ]
  },
  {
   "cell_type": "code",
   "execution_count": 53,
   "metadata": {},
   "outputs": [
    {
     "name": "stdout",
     "output_type": "stream",
     "text": [
      "tup= (1, 2, 3, 4, 2, 2, 5, 6, 7)\n",
      "lis= [1, 2, 3, 4, 2, 2, 5, 6, 7]\n"
     ]
    }
   ],
   "source": [
    "# Convert a tuple to a list.\n",
    "\n",
    "tup= (1, 2, 3, 4, 2, 2, 5, 6, 7)\n",
    "print(\"tup=\", tup)\n",
    "\n",
    "lis=list(tup)\n",
    "print(\"lis=\",lis)"
   ]
  },
  {
   "cell_type": "code",
   "execution_count": 54,
   "metadata": {},
   "outputs": [
    {
     "name": "stdout",
     "output_type": "stream",
     "text": [
      "tup= (1, 2, 3, 4, 2, 2, 5, 6, 7)\n",
      "lis= [1, 2, 3, 4, 2, 2, 5, 6, 7]\n"
     ]
    }
   ],
   "source": [
    "# Convert a tuple to a list.\n",
    "\n",
    "tup= (1, 2, 3, 4, 2, 2, 5, 6, 7)\n",
    "print(\"tup=\", tup)\n",
    "\n",
    "lis=list(tup)\n",
    "print(\"lis=\",lis)"
   ]
  },
  {
   "cell_type": "code",
   "execution_count": 55,
   "metadata": {},
   "outputs": [
    {
     "name": "stdout",
     "output_type": "stream",
     "text": [
      "var1= 1\n",
      "var2= 2\n",
      "var3= 3\n",
      "var4= 4\n",
      "var5= 5\n"
     ]
    }
   ],
   "source": [
    "# Unpack the elements of a tuple into variables.\n",
    "\n",
    "tup=(1,2,3,4,5)\n",
    "var1,var2,var3,var4,var5=tup\n",
    "\n",
    "print(\"var1=\",var1)\n",
    "print(\"var2=\",var2)\n",
    "print(\"var3=\",var3)\n",
    "print(\"var4=\",var4)\n",
    "print(\"var5=\",var5)"
   ]
  },
  {
   "cell_type": "code",
   "execution_count": 57,
   "metadata": {},
   "outputs": [
    {
     "name": "stdout",
     "output_type": "stream",
     "text": [
      "tupl= (2, 4, 6, 8, 10)\n"
     ]
    }
   ],
   "source": [
    "# Create a tuple of even numbers from 1 to 10.\n",
    "\n",
    "tupl=tuple(i for i in range(1,11) if i%2==0)\n",
    "print(\"tupl=\",tupl)"
   ]
  },
  {
   "cell_type": "code",
   "execution_count": 58,
   "metadata": {},
   "outputs": [
    {
     "name": "stdout",
     "output_type": "stream",
     "text": [
      "tupl= (1, 3, 5, 7, 9)\n"
     ]
    }
   ],
   "source": [
    "# Create a tuple of odd numbers from 1 to 10.\n",
    "\n",
    "tupl=tuple(i for i in range(1,11) if i%2!=0)\n",
    "print(\"tupl=\",tupl)"
   ]
  },
  {
   "cell_type": "code",
   "execution_count": 59,
   "metadata": {},
   "outputs": [
    {
     "name": "stdout",
     "output_type": "stream",
     "text": [
      "T3= (1, 2, 3, 4, 5, 6, 7, 8)\n"
     ]
    }
   ],
   "source": [
    "# Concatenate two tuples.\n",
    "\n",
    "t1=(1,2,3,4)\n",
    "t2=(5,6,7,8)\n",
    "t3=t1+t2\n",
    "\n",
    "print(\"T3=\",t3)"
   ]
  },
  {
   "cell_type": "code",
   "execution_count": 60,
   "metadata": {},
   "outputs": [
    {
     "name": "stdout",
     "output_type": "stream",
     "text": [
      "The modified tuple: (1, 2, 3, 4, 5, 1, 2, 3, 4, 5, 1, 2, 3, 4, 5)\n"
     ]
    }
   ],
   "source": [
    "# Repeat a tuple three times.\n",
    "\n",
    "t1=(1,2,3,4,5)\n",
    "t2=t1*3\n",
    "\n",
    "print(\"The modified tuple:\",t2)"
   ]
  },
  {
   "cell_type": "code",
   "execution_count": 62,
   "metadata": {},
   "outputs": [
    {
     "name": "stdout",
     "output_type": "stream",
     "text": [
      "The tuple is empty\n"
     ]
    }
   ],
   "source": [
    "# Check if a tuple is empty.\n",
    "\n",
    "t=()\n",
    "length=len(t)\n",
    "\n",
    "if len(t)>=1:\n",
    "    print(\"The tuple is not empty\")\n",
    "else:\n",
    "    print(\"The tuple is empty\")"
   ]
  },
  {
   "cell_type": "code",
   "execution_count": 3,
   "metadata": {},
   "outputs": [
    {
     "name": "stdout",
     "output_type": "stream",
     "text": [
      "Nested tuple:  ((1, 2, 3), (4, 5), (6, 7))\n"
     ]
    }
   ],
   "source": [
    "# Create a nested tuple.\n",
    "\n",
    "t=(1,2,3),\n",
    "t1=(4,5),\n",
    "t2=(6,7),\n",
    "\n",
    "t3=t+t1+t2\n",
    "print(\"Nested tuple: \",t3)"
   ]
  },
  {
   "cell_type": "code",
   "execution_count": 4,
   "metadata": {},
   "outputs": [
    {
     "name": "stdout",
     "output_type": "stream",
     "text": [
      "The first element is 1\n"
     ]
    }
   ],
   "source": [
    "# Access the first element of a nested tuple.\n",
    "\n",
    "t=((1, 2, 3), (4, 5), (6, 7))\n",
    "element=t[0][0]\n",
    "\n",
    "print(\"The first element is\",element)"
   ]
  },
  {
   "cell_type": "code",
   "execution_count": 5,
   "metadata": {},
   "outputs": [
    {
     "name": "stdout",
     "output_type": "stream",
     "text": [
      "t= ('abc',)\n"
     ]
    }
   ],
   "source": [
    "# Create a tuple with a single element.\n",
    "\n",
    "t=(\"abc\",)\n",
    "print(\"t=\",t)"
   ]
  },
  {
   "cell_type": "code",
   "execution_count": 7,
   "metadata": {},
   "outputs": [
    {
     "name": "stdout",
     "output_type": "stream",
     "text": [
      "t1==t2: False\n",
      "t1!=t2: True\n",
      "t1<=t2: True\n",
      "t1<t2: True\n",
      "t1>=t2: False\n",
      "t1>t2: False\n"
     ]
    }
   ],
   "source": [
    "# Compare two tuples.\n",
    "\n",
    "t1=(1,2,3,4,5)\n",
    "t2=(5,6,7,8,9)\n",
    "\n",
    "print(\"t1==t2:\",t1==t2)\n",
    "print(\"t1!=t2:\",t1!=t2)\n",
    "print(\"t1<=t2:\",t1<=t2)\n",
    "print(\"t1<t2:\",t1<t2)\n",
    "print(\"t1>=t2:\",t1>=t2)\n",
    "print(\"t1>t2:\",t1>t2)"
   ]
  },
  {
   "cell_type": "code",
   "execution_count": 8,
   "metadata": {},
   "outputs": [
    {
     "ename": "NameError",
     "evalue": "name 't' is not defined",
     "output_type": "error",
     "traceback": [
      "\u001b[1;31m---------------------------------------------------------------------------\u001b[0m",
      "\u001b[1;31mNameError\u001b[0m                                 Traceback (most recent call last)",
      "Cell \u001b[1;32mIn[8], line 6\u001b[0m\n\u001b[0;32m      3\u001b[0m t\u001b[39m=\u001b[39m(\u001b[39m1\u001b[39m,\u001b[39m2\u001b[39m,\u001b[39m3\u001b[39m,\u001b[39m4\u001b[39m,\u001b[39m5\u001b[39m)\n\u001b[0;32m      5\u001b[0m \u001b[39mdel\u001b[39;00m t\n\u001b[1;32m----> 6\u001b[0m \u001b[39mprint\u001b[39m(t)\n",
      "\u001b[1;31mNameError\u001b[0m: name 't' is not defined"
     ]
    }
   ],
   "source": [
    "# Delete a tuple.\n",
    "\n",
    "t=(1,2,3,4,5)\n",
    "\n",
    "del t\n",
    "print(t)"
   ]
  },
  {
   "cell_type": "code",
   "execution_count": 9,
   "metadata": {},
   "outputs": [
    {
     "name": "stdout",
     "output_type": "stream",
     "text": [
      "sliced_part= (3, 4)\n"
     ]
    }
   ],
   "source": [
    "# Slice a tuple.\n",
    "\n",
    "t=(1,2,3,4,5,6,7)\n",
    "\n",
    "sliced_part=t[2:4]\n",
    "print(\"sliced_part=\",sliced_part)"
   ]
  },
  {
   "cell_type": "code",
   "execution_count": 10,
   "metadata": {},
   "outputs": [
    {
     "name": "stdout",
     "output_type": "stream",
     "text": [
      "The max value is 256\n"
     ]
    }
   ],
   "source": [
    "# Find the maximum value in a tuple.\n",
    "\n",
    "t=(1,34,23,56,87,256,123)\n",
    "\n",
    "max_value=max(t)\n",
    "print(\"The max value is\",max_value)"
   ]
  },
  {
   "cell_type": "code",
   "execution_count": 11,
   "metadata": {},
   "outputs": [
    {
     "name": "stdout",
     "output_type": "stream",
     "text": [
      "The max value is 1\n"
     ]
    }
   ],
   "source": [
    "# Find the minimum value in a tuple.\n",
    "\n",
    "t=(1,34,23,56,87,256,123)\n",
    "\n",
    "min_value=min(t)\n",
    "print(\"The max value is\",min_value)"
   ]
  },
  {
   "cell_type": "code",
   "execution_count": 13,
   "metadata": {},
   "outputs": [
    {
     "name": "stdout",
     "output_type": "stream",
     "text": [
      "t= ('p', 'w', 's', 'k', 'i', 'l', 'l', 's')\n"
     ]
    }
   ],
   "source": [
    "# Convert a string to a tuple of characters.\n",
    "\n",
    "s=\"pwskills\"\n",
    "\n",
    "t=tuple(s)\n",
    "print(\"t=\",t)"
   ]
  },
  {
   "cell_type": "code",
   "execution_count": 15,
   "metadata": {},
   "outputs": [
    {
     "name": "stdout",
     "output_type": "stream",
     "text": [
      "The modified string: pwskills\n"
     ]
    }
   ],
   "source": [
    "# Convert a tuple of characters to a string.\n",
    "\n",
    "t= ('p', 'w', 's', 'k', 'i', 'l', 'l', 's')\n",
    "\n",
    "char_str=\"\".join(t)\n",
    "print(\"The modified string:\",char_str)"
   ]
  },
  {
   "cell_type": "code",
   "execution_count": 16,
   "metadata": {},
   "outputs": [
    {
     "name": "stdout",
     "output_type": "stream",
     "text": [
      "t= (1, 2, 'abc', (4+5j), 4.5)\n"
     ]
    }
   ],
   "source": [
    "# Create a tuple from multiple data types.\n",
    "\n",
    "t=(1,2,\"abc\",4+5j,4.5)\n",
    "print(\"t=\",t)"
   ]
  },
  {
   "cell_type": "code",
   "execution_count": 17,
   "metadata": {},
   "outputs": [
    {
     "name": "stdout",
     "output_type": "stream",
     "text": [
      "True\n"
     ]
    }
   ],
   "source": [
    "# Check if two tuples are identical.\n",
    "\n",
    "t1=(1,2,3,4,5)\n",
    "t2=(1,2,3,4,4,5)\n",
    "\n",
    "set1=set(t1)\n",
    "set2=set(t2)\n",
    "\n",
    "if set1==set2:\n",
    "    print(True)\n",
    "else:\n",
    "    print(False)"
   ]
  },
  {
   "cell_type": "code",
   "execution_count": 19,
   "metadata": {},
   "outputs": [
    {
     "name": "stdout",
     "output_type": "stream",
     "text": [
      "The sorted elements: [1, 23, 34, 56, 87, 123, 256]\n"
     ]
    }
   ],
   "source": [
    "# Sort the elements of a tuple.\n",
    "\n",
    "t=(1,34,23,56,87,256,123)\n",
    "\n",
    "t1=sorted(t)\n",
    "print(\"The sorted elements:\",t1)"
   ]
  },
  {
   "cell_type": "code",
   "execution_count": 20,
   "metadata": {},
   "outputs": [
    {
     "name": "stdout",
     "output_type": "stream",
     "text": [
      "new_tupl= ('1', '2', '3', '4', '5', '6', '7')\n"
     ]
    }
   ],
   "source": [
    "# Convert a tuple of integers to a tuple of strings.\n",
    "\n",
    "tupl=(1,2,3,4,5,6,7)\n",
    "\n",
    "new_tupl=tuple(str(i) for i in tupl)\n",
    "print(\"new_tupl=\",new_tupl)"
   ]
  },
  {
   "cell_type": "code",
   "execution_count": 22,
   "metadata": {},
   "outputs": [
    {
     "name": "stdout",
     "output_type": "stream",
     "text": [
      "new_tuple1 (1, 2, 3, 4, 5, 6, 7)\n"
     ]
    }
   ],
   "source": [
    "# Convert a tuple of strings to a tuple of integers.\n",
    "\n",
    "t=('1', '2', '3', '4', '5', '6', '7')\n",
    "\n",
    "new_tupl=tuple(int(i) for i in t)\n",
    "print(\"new_tuple1\",new_tupl)"
   ]
  },
  {
   "cell_type": "code",
   "execution_count": 23,
   "metadata": {},
   "outputs": [
    {
     "name": "stdout",
     "output_type": "stream",
     "text": [
      "t3= (1, 2, 3, 3, 4, 5)\n"
     ]
    }
   ],
   "source": [
    "# Merge two tuples.\n",
    "\n",
    "t=(1,2,3)\n",
    "t1=(3,4,5)\n",
    "\n",
    "t3=t+t1\n",
    "print(\"t3=\",t3)"
   ]
  },
  {
   "cell_type": "code",
   "execution_count": 28,
   "metadata": {},
   "outputs": [
    {
     "name": "stdout",
     "output_type": "stream",
     "text": [
      "t2= (1, 2, 3, 4, 5, 6)\n"
     ]
    }
   ],
   "source": [
    "# Flatten a nested tuple.\n",
    "\n",
    "t=((1,2),(3,4),(5,6))\n",
    "t1=[]\n",
    "\n",
    "for i in t:\n",
    "    for j in i:\n",
    "        t1.append(j)\n",
    "t2=tuple(t1)\n",
    "print(\"t2=\",t2)"
   ]
  },
  {
   "cell_type": "code",
   "execution_count": 34,
   "metadata": {},
   "outputs": [
    {
     "name": "stdout",
     "output_type": "stream",
     "text": [
      "(2, 3, 5, 7, 11)\n"
     ]
    }
   ],
   "source": [
    "# Create a tuple of the first 5 prime numbers.\n",
    "\n",
    "l=[]\n",
    "\n",
    "for i in range(2,12):\n",
    "    for j in range(2,i):\n",
    "        if i%j==0:\n",
    "            break\n",
    "    else:\n",
    "        l.append(i)\n",
    "print(tuple(l))"
   ]
  },
  {
   "cell_type": "code",
   "execution_count": 37,
   "metadata": {},
   "outputs": [
    {
     "name": "stdout",
     "output_type": "stream",
     "text": [
      "It's not a palindrome\n"
     ]
    }
   ],
   "source": [
    "# Check if a tuple is a palindrome.\n",
    "\n",
    "tupl=(1,2,3)\n",
    "\n",
    "if tupl==tupl[::-1]:\n",
    "    print(\"It's a palindrome\")\n",
    "else:\n",
    "    print(\"It's not a palindrome\")"
   ]
  },
  {
   "cell_type": "code",
   "execution_count": 38,
   "metadata": {},
   "outputs": [
    {
     "name": "stdout",
     "output_type": "stream",
     "text": [
      "(1, 4, 9, 16, 25)\n"
     ]
    }
   ],
   "source": [
    "# Create a tuple of squares of numbers from 1 to 5.\n",
    "\n",
    "lis=[]\n",
    "\n",
    "for i in range(1,6):\n",
    "    lis.append(i**2)\n",
    "print(tuple(lis))"
   ]
  },
  {
   "cell_type": "code",
   "execution_count": 39,
   "metadata": {},
   "outputs": [
    {
     "name": "stdout",
     "output_type": "stream",
     "text": [
      "(2, 4, 6, 8)\n"
     ]
    }
   ],
   "source": [
    "# Filter out all even numbers from a tuple.\n",
    "\n",
    "t=(1,2,3,4,5,6,7,8)\n",
    "lis=[]\n",
    "\n",
    "for i in t:\n",
    "    if i%2==0:\n",
    "        lis.append(i)\n",
    "print(tuple(lis))"
   ]
  },
  {
   "cell_type": "code",
   "execution_count": 40,
   "metadata": {},
   "outputs": [
    {
     "name": "stdout",
     "output_type": "stream",
     "text": [
      "(2, 4, 6, 8, 10, 12, 14, 16)\n"
     ]
    }
   ],
   "source": [
    "# Multiply all elements in a tuple by 2.\n",
    "\n",
    "t=(1,2,3,4,5,6,7,8)\n",
    "lis=[]\n",
    "\n",
    "for i in t:\n",
    "    lis.append(i*2)\n",
    "print(tuple(lis))"
   ]
  },
  {
   "cell_type": "code",
   "execution_count": 41,
   "metadata": {},
   "outputs": [
    {
     "name": "stdout",
     "output_type": "stream",
     "text": [
      "new_tup= (11, 8, 4, 15, 14, 6, 9, 14, 4, 9)\n"
     ]
    }
   ],
   "source": [
    "# Create a tuple of random numbers.\n",
    "\n",
    "import random\n",
    "\n",
    "new_tup=tuple(random.randint(4,15) for i in range(10))\n",
    "print(\"new_tup=\",new_tup)"
   ]
  },
  {
   "cell_type": "code",
   "execution_count": 47,
   "metadata": {},
   "outputs": [
    {
     "name": "stdout",
     "output_type": "stream",
     "text": [
      "True\n"
     ]
    }
   ],
   "source": [
    "# Check if a tuple is sorted.\n",
    "\n",
    "t=(1,2,3,4,5)\n",
    "print(t==tuple(sorted(t)))"
   ]
  },
  {
   "cell_type": "code",
   "execution_count": 49,
   "metadata": {},
   "outputs": [
    {
     "name": "stdout",
     "output_type": "stream",
     "text": [
      "The original tuple: (1, 2, 3, 4, 5)\n",
      "Enter any number: 2\n",
      "t= (3, 4, 5, 1, 2)\n"
     ]
    }
   ],
   "source": [
    "# Rotate a tuple to the left by n positions.\n",
    "\n",
    "t=(1,2,3,4,5)\n",
    "print(\"The original tuple:\",t)\n",
    "n=int(input())\n",
    "print(\"Enter any number:\",n)\n",
    "\n",
    "t=t[n:]+t[:n]\n",
    "print(\"t=\",t)"
   ]
  },
  {
   "cell_type": "code",
   "execution_count": 52,
   "metadata": {},
   "outputs": [
    {
     "name": "stdout",
     "output_type": "stream",
     "text": [
      "The original tuple: (1, 2, 3, 4, 5)\n",
      "Enter any number: 2\n",
      "t= (4, 5, 1, 2, 3)\n"
     ]
    }
   ],
   "source": [
    "# Rotate a tuple to the right by n positions.\n",
    "\n",
    "t=(1,2,3,4,5)\n",
    "print(\"The original tuple:\",t)\n",
    "n=int(input())\n",
    "print(\"Enter any number:\",n)\n",
    "\n",
    "t=t[-n:]+t[:-n]\n",
    "print(\"t=\",t)"
   ]
  },
  {
   "cell_type": "code",
   "execution_count": 55,
   "metadata": {},
   "outputs": [
    {
     "name": "stdout",
     "output_type": "stream",
     "text": [
      "Fibonacci_series= [0, 1, 1, 2, 3]\n"
     ]
    }
   ],
   "source": [
    "# Create a tuple of the first 5 Fibonacci numbers.\n",
    "\n",
    "fib_lis=[0,1]\n",
    "\n",
    "for i in range(2,5):\n",
    "    fib=fib_lis[i-1]+fib_lis[i-2]\n",
    "    fib_lis.append(fib)\n",
    "\n",
    "print(\"Fibonacci_series=\",fib_lis)"
   ]
  },
  {
   "cell_type": "code",
   "execution_count": 61,
   "metadata": {},
   "outputs": [
    {
     "name": "stdout",
     "output_type": "stream",
     "text": [
      "user_tuple= ('pwskills', 'neuron')\n"
     ]
    }
   ],
   "source": [
    "# Create a tuple from user input.\n",
    "\n",
    "s=input()\n",
    "l=s.split(',')\n",
    "user_tuple=tuple(l)\n",
    "print(\"user_tuple=\",user_tuple)"
   ]
  },
  {
   "cell_type": "code",
   "execution_count": 63,
   "metadata": {},
   "outputs": [
    {
     "name": "stdout",
     "output_type": "stream",
     "text": [
      "tupl= (1, 2, 6, 4, 5, 3)\n"
     ]
    }
   ],
   "source": [
    "# Swap two elements in a tuple.\n",
    "\n",
    "l=[1,2,3,4,5,6]\n",
    "\n",
    "a=2\n",
    "b=5\n",
    "\n",
    "temp=l[a]\n",
    "l[a]=l[b]\n",
    "l[b]=temp\n",
    "\n",
    "print(\"tupl=\",tuple(l))"
   ]
  },
  {
   "cell_type": "code",
   "execution_count": 64,
   "metadata": {},
   "outputs": [
    {
     "name": "stdout",
     "output_type": "stream",
     "text": [
      "t= (1, 2, 3, 4, 5)\n",
      "new_tup= (5, 4, 3, 2, 1)\n"
     ]
    }
   ],
   "source": [
    "# Reverse the elements of a tuple.\n",
    "\n",
    "t=(1,2,3,4,5)\n",
    "print(\"t=\",t)\n",
    "new_tup=t[::-1]\n",
    "print(\"new_tup=\",new_tup)"
   ]
  },
  {
   "cell_type": "code",
   "execution_count": 65,
   "metadata": {},
   "outputs": [
    {
     "name": "stdout",
     "output_type": "stream",
     "text": [
      "Enter the range: 5\n",
      "tupl= (0, 1, 4, 9, 16)\n"
     ]
    }
   ],
   "source": [
    "# Create a tuple of the first n powers of 2.\n",
    "\n",
    "n=int(input())\n",
    "print(\"Enter the range:\",n)\n",
    "l=[]\n",
    "\n",
    "for i in range(n):\n",
    "    l.append(i**2)\n",
    "print(\"tupl=\",tuple(l))"
   ]
  },
  {
   "cell_type": "code",
   "execution_count": 67,
   "metadata": {},
   "outputs": [
    {
     "name": "stdout",
     "output_type": "stream",
     "text": [
      "long_str= science\n"
     ]
    }
   ],
   "source": [
    "# Find the longest string in a tuple of strings.\n",
    "\n",
    "tupl=(\"full\",\"stack\",\"data\",\"science\",\"pro\")\n",
    "\n",
    "long_str=max(tupl,key=len)\n",
    "print(\"long_str=\",long_str)"
   ]
  },
  {
   "cell_type": "code",
   "execution_count": 68,
   "metadata": {},
   "outputs": [
    {
     "name": "stdout",
     "output_type": "stream",
     "text": [
      "short_str= pro\n"
     ]
    }
   ],
   "source": [
    "# Find the shortest string in a tuple of strings\n",
    "\n",
    "tupl=(\"full\",\"stack\",\"data\",\"science\",\"pro\")\n",
    "\n",
    "short_str=min(tupl,key=len)\n",
    "print(\"short_str=\",short_str)"
   ]
  },
  {
   "cell_type": "code",
   "execution_count": 69,
   "metadata": {},
   "outputs": [
    {
     "name": "stdout",
     "output_type": "stream",
     "text": [
      "Enter any number: 7\n",
      "tupl= (1, 3, 6, 10, 15, 21, 28)\n"
     ]
    }
   ],
   "source": [
    "# Create a tuple of the first n triangular numbers.\n",
    "\n",
    "l=[]\n",
    "n=int(input())\n",
    "print(\"Enter any number:\",n)\n",
    "\n",
    "for i in range(1,n+1):\n",
    "    l.append(i*(i+1)//2)\n",
    "print(\"tupl=\",tuple(l))"
   ]
  },
  {
   "cell_type": "code",
   "execution_count": 70,
   "metadata": {},
   "outputs": [
    {
     "name": "stdout",
     "output_type": "stream",
     "text": [
      "yes,this tuple contains another tuple as a subsequence\n"
     ]
    }
   ],
   "source": [
    "# Check if a tuple contains another tuple as a subsequence.\n",
    "\n",
    "tup=(1,2,3,4,5,6)\n",
    "sub=(3,4,5)\n",
    "flag=0\n",
    "\n",
    "if(all(x in tup for x in sub)):\n",
    "    flag=1\n",
    "\n",
    "if(flag):\n",
    "    print(\"yes,this tuple contains another tuple as a subsequence\")\n",
    "else:\n",
    "    print(\"no,this tuple does not contains another tuple as a subsequence\")"
   ]
  },
  {
   "cell_type": "code",
   "execution_count": 72,
   "metadata": {},
   "outputs": [
    {
     "name": "stdout",
     "output_type": "stream",
     "text": [
      "alt_tup= (0, 1, 0, 1, 0, 1, 0)\n"
     ]
    }
   ],
   "source": [
    "# Create a tuple of alternating 1s and 0s of length n.\n",
    "\n",
    "n=int(input())\n",
    "\n",
    "alt_tup=tuple(i%2 for i in range(n))\n",
    "print(\"alt_tup=\",alt_tup)"
   ]
  },
  {
   "cell_type": "markdown",
   "metadata": {},
   "source": [
    "### Set based question:"
   ]
  },
  {
   "cell_type": "code",
   "execution_count": 74,
   "metadata": {},
   "outputs": [
    {
     "name": "stdout",
     "output_type": "stream",
     "text": [
      "s= {1, 2, 3, 4, 5}\n"
     ]
    },
    {
     "data": {
      "text/plain": [
       "set"
      ]
     },
     "execution_count": 74,
     "metadata": {},
     "output_type": "execute_result"
    }
   ],
   "source": [
    "# Create a set with integers from 1 to 5.\n",
    "\n",
    "s={1,2,3,4,5}\n",
    "print(\"s=\",s)\n",
    "\n",
    "type(s)"
   ]
  },
  {
   "cell_type": "code",
   "execution_count": 77,
   "metadata": {},
   "outputs": [
    {
     "name": "stdout",
     "output_type": "stream",
     "text": [
      "s= {1, 2, 3, 4, 5, 7}\n"
     ]
    }
   ],
   "source": [
    "# Add an element to a set.\n",
    "\n",
    "s= {1, 2, 3, 4, 5}\n",
    "s.add(7)\n",
    "print(\"s=\",s)"
   ]
  },
  {
   "cell_type": "code",
   "execution_count": 78,
   "metadata": {},
   "outputs": [
    {
     "name": "stdout",
     "output_type": "stream",
     "text": [
      "s= {1, 2, 3, 4, 7}\n"
     ]
    }
   ],
   "source": [
    "# Remove an element from a set.\n",
    "\n",
    "s= {1, 2, 3, 4, 5, 7}\n",
    "s.remove(5)\n",
    "print(\"s=\",s)"
   ]
  },
  {
   "cell_type": "code",
   "execution_count": 80,
   "metadata": {},
   "outputs": [
    {
     "name": "stdout",
     "output_type": "stream",
     "text": [
      "Enter any element: 4\n",
      "Element 4 is there in {1, 2, 3, 4, 5, 7}\n"
     ]
    }
   ],
   "source": [
    "# Check if an element exists in a set.\n",
    "\n",
    "s= {1, 2, 3, 4, 5, 7}\n",
    "n=int(input())\n",
    "print(\"Enter any element:\",n)\n",
    "\n",
    "if n in s:\n",
    "    print(\"Element {} is there in {}\".format(n,s))\n",
    "else:\n",
    "    print(\"Element {} is not there in {}\".format(n,s))"
   ]
  },
  {
   "cell_type": "code",
   "execution_count": 81,
   "metadata": {},
   "outputs": [
    {
     "name": "stdout",
     "output_type": "stream",
     "text": [
      "count of set is 6\n"
     ]
    }
   ],
   "source": [
    "# Find the length of a set without using the len() function.\n",
    "\n",
    "s= {1, 2, 3, 4, 5, 7}\n",
    "count=0\n",
    "\n",
    "for i in s:\n",
    "    count+=1\n",
    "print(\"count of set is\",count)"
   ]
  },
  {
   "cell_type": "code",
   "execution_count": 82,
   "metadata": {},
   "outputs": [
    {
     "name": "stdout",
     "output_type": "stream",
     "text": [
      "set()\n"
     ]
    }
   ],
   "source": [
    "# Clear all elements from a set.\n",
    "\n",
    "s= {1, 2, 3, 4, 5, 7}\n",
    "s.clear()\n",
    "print(s)"
   ]
  },
  {
   "cell_type": "code",
   "execution_count": 85,
   "metadata": {},
   "outputs": [
    {
     "name": "stdout",
     "output_type": "stream",
     "text": [
      "Even numbers= {2, 4, 6, 8, 10}\n"
     ]
    }
   ],
   "source": [
    "# Create a set of even numbers from 1 to 10.\n",
    "\n",
    "l=[]\n",
    "\n",
    "for i in range(1,10+1):\n",
    "    if i%2==0:\n",
    "        l.append(i)\n",
    "print(\"Even numbers=\",set(l))"
   ]
  },
  {
   "cell_type": "code",
   "execution_count": 86,
   "metadata": {},
   "outputs": [
    {
     "name": "stdout",
     "output_type": "stream",
     "text": [
      "Odd numbers= {1, 3, 5, 7, 9}\n"
     ]
    }
   ],
   "source": [
    "# Create a set of odd numbers from 1 to 10.\n",
    "\n",
    "l=[]\n",
    "\n",
    "for i in range(1,10+1):\n",
    "    if i%2!=0:\n",
    "        l.append(i)\n",
    "print(\"Odd numbers=\",set(l))"
   ]
  },
  {
   "cell_type": "code",
   "execution_count": 87,
   "metadata": {},
   "outputs": [
    {
     "name": "stdout",
     "output_type": "stream",
     "text": [
      "Union of set1 and set2: {1, 2, 3, 4, 5, 6, 7, 8}\n"
     ]
    }
   ],
   "source": [
    "# Find the union of two sets.\n",
    "\n",
    "set1={1,2,3,4,5}\n",
    "set2={4,5,6,7,8}\n",
    "\n",
    "set3=set1.union(set2)\n",
    "print(\"Union of set1 and set2:\",set3)"
   ]
  },
  {
   "cell_type": "code",
   "execution_count": 88,
   "metadata": {},
   "outputs": [
    {
     "name": "stdout",
     "output_type": "stream",
     "text": [
      "Intersection of set1 and set2: {4, 5}\n"
     ]
    }
   ],
   "source": [
    "# Find the intersection of two sets.\n",
    "\n",
    "set1={1,2,3,4,5}\n",
    "set2={4,5,6,7,8}\n",
    "\n",
    "set3=set1.intersection(set2)\n",
    "print(\"Intersection of set1 and set2:\",set3)"
   ]
  },
  {
   "cell_type": "code",
   "execution_count": 89,
   "metadata": {},
   "outputs": [
    {
     "name": "stdout",
     "output_type": "stream",
     "text": [
      "Difference of set1 and set2: {1, 2, 3}\n"
     ]
    }
   ],
   "source": [
    "# Find the difference between two sets.\n",
    "\n",
    "set1={1,2,3,4,5}\n",
    "set2={4,5,6,7,8}\n",
    "\n",
    "set3=set1.difference(set2)\n",
    "print(\"Difference of set1 and set2:\",set3)"
   ]
  },
  {
   "cell_type": "code",
   "execution_count": 93,
   "metadata": {},
   "outputs": [
    {
     "name": "stdout",
     "output_type": "stream",
     "text": [
      "Set1 is subset of set2: True\n",
      "Set2 is subset of set1: False\n"
     ]
    }
   ],
   "source": [
    "#  Check if a set is a subset of another set.\n",
    "\n",
    "s1={1,2,3}\n",
    "s2={1,2,3,4,5,6}\n",
    "\n",
    "set1_is_subset_set2=s1.issubset(s2)\n",
    "set2_is_subset_set1=s2.issubset(s1)\n",
    "\n",
    "print(\"Set1 is subset of set2:\",set1_is_subset_set2)\n",
    "print(\"Set2 is subset of set1:\",set2_is_subset_set1)"
   ]
  },
  {
   "cell_type": "code",
   "execution_count": 94,
   "metadata": {},
   "outputs": [
    {
     "name": "stdout",
     "output_type": "stream",
     "text": [
      "Set1 is superset of set2: False\n",
      "Set2 is superset of set1: True\n"
     ]
    }
   ],
   "source": [
    "# Check if a set is a superset of another set.\n",
    "\n",
    "s1={1,2,3}\n",
    "s2={1,2,3,4,5,6}\n",
    "\n",
    "set1_is_superset_set2=s1.issuperset(s2)\n",
    "set2_is_superset_set1=s2.issuperset(s1)\n",
    "\n",
    "print(\"Set1 is superset of set2:\",set1_is_superset_set2)\n",
    "print(\"Set2 is superset of set1:\",set2_is_superset_set1)"
   ]
  },
  {
   "cell_type": "code",
   "execution_count": 95,
   "metadata": {},
   "outputs": [
    {
     "name": "stdout",
     "output_type": "stream",
     "text": [
      "set1= {1, 2, 3, 4, 5, 6}\n"
     ]
    }
   ],
   "source": [
    "# Create a set from a list.\n",
    "\n",
    "l=[1,2,3,4,5,6]\n",
    "set1=set(l)\n",
    "print(\"set1=\",set1)"
   ]
  },
  {
   "cell_type": "code",
   "execution_count": 96,
   "metadata": {},
   "outputs": [
    {
     "name": "stdout",
     "output_type": "stream",
     "text": [
      "lis= [1, 2, 3, 4, 5, 6]\n"
     ]
    }
   ],
   "source": [
    "#  Convert a set to a list.\n",
    "\n",
    "set1= {1, 2, 3, 4, 5, 6}\n",
    "lis=list(set1)\n",
    "print(\"lis=\",lis)"
   ]
  },
  {
   "cell_type": "code",
   "execution_count": 100,
   "metadata": {},
   "outputs": [
    {
     "name": "stdout",
     "output_type": "stream",
     "text": [
      "set1= {2, 3, 4, 5, 6}\n"
     ]
    }
   ],
   "source": [
    "# Remove a random element from a set.\n",
    "\n",
    "import random\n",
    "\n",
    "set1= {1, 2, 3, 4, 5, 6}\n",
    "rand_elem=random.choice(list(set1))\n",
    "set1.remove(rand_elem)\n",
    "print(\"set1=\",set1)"
   ]
  },
  {
   "cell_type": "code",
   "execution_count": 101,
   "metadata": {},
   "outputs": [
    {
     "name": "stdout",
     "output_type": "stream",
     "text": [
      "set1= {2, 3, 4, 5, 6}\n"
     ]
    }
   ],
   "source": [
    "# Pop an element from a set.\n",
    "\n",
    "set1= {1, 2, 3, 4, 5, 6}\n",
    "set1.pop()\n",
    "print(\"set1=\",set1)"
   ]
  },
  {
   "cell_type": "code",
   "execution_count": 102,
   "metadata": {},
   "outputs": [
    {
     "name": "stdout",
     "output_type": "stream",
     "text": [
      "{6} is the common element in the set\n"
     ]
    }
   ],
   "source": [
    "# Check if two sets have no elements in common.\n",
    "\n",
    "set1={1, 2, 3, 4, 5, 6}\n",
    "set2={7,8,9,10,6}\n",
    "\n",
    "result=set1.intersection(set2)\n",
    "\n",
    "if not result:\n",
    "    print(\"There is no common elements in the set\")\n",
    "else:\n",
    "    print(\"{} is the common element in the set\".format(result))"
   ]
  },
  {
   "cell_type": "code",
   "execution_count": 103,
   "metadata": {},
   "outputs": [
    {
     "name": "stdout",
     "output_type": "stream",
     "text": [
      "{1, 6}\n"
     ]
    }
   ],
   "source": [
    "# Find the symmetric difference between two sets.\n",
    "\n",
    "set1={1,2,3,4,5}\n",
    "set2={2,3,4,5,6}\n",
    "\n",
    "result=set1.symmetric_difference(set2)\n",
    "print(result)"
   ]
  },
  {
   "cell_type": "code",
   "execution_count": 105,
   "metadata": {},
   "outputs": [
    {
     "name": "stdout",
     "output_type": "stream",
     "text": [
      "{1, 2, 3, 4, 5, 6, 7, 8, 9}\n"
     ]
    }
   ],
   "source": [
    "# Update a set with elements from another set.\n",
    "\n",
    "set1={1,2,3,4,5}\n",
    "set2={8,7,9,6,5}\n",
    "\n",
    "set1.update(set2)\n",
    "print(set1)"
   ]
  },
  {
   "cell_type": "code",
   "execution_count": 2,
   "metadata": {},
   "outputs": [
    {
     "name": "stdout",
     "output_type": "stream",
     "text": [
      "set1= {2, 3, 5, 7, 11}\n"
     ]
    }
   ],
   "source": [
    "# Create a set of the first 5 prime numbers.\n",
    "\n",
    "lis=[]\n",
    " \n",
    "for i in range(2,50):\n",
    "    for j in range(2,i):\n",
    "        if (i%j==0):\n",
    "            break\n",
    "    else:\n",
    "        lis.append(i)\n",
    "print(\"set1=\",set(lis[:5]))"
   ]
  },
  {
   "cell_type": "code",
   "execution_count": 3,
   "metadata": {},
   "outputs": [
    {
     "name": "stdout",
     "output_type": "stream",
     "text": [
      "yes,the sets are identical\n"
     ]
    }
   ],
   "source": [
    "# Check if two sets are identical.\n",
    "\n",
    "set1={1,2,3,4,5}\n",
    "set2={1,2,3,4,5}\n",
    "\n",
    "if set1==set2:\n",
    "    print(\"yes,the sets are identical\")\n",
    "else:\n",
    "    print(\"Sets are not identical\")"
   ]
  },
  {
   "cell_type": "code",
   "execution_count": 4,
   "metadata": {},
   "outputs": [
    {
     "name": "stdout",
     "output_type": "stream",
     "text": [
      "froz= frozenset({1, 2, 3, 4, 5})\n"
     ]
    }
   ],
   "source": [
    "# Create a frozen set.\n",
    "\n",
    "lis=[1,2,3,4,5]\n",
    "\n",
    "froz=frozenset(lis)\n",
    "print(\"froz=\",froz)"
   ]
  },
  {
   "cell_type": "code",
   "execution_count": 5,
   "metadata": {},
   "outputs": [
    {
     "name": "stdout",
     "output_type": "stream",
     "text": [
      "res1= False\n",
      "res2= True\n"
     ]
    }
   ],
   "source": [
    "# Check if a set is disjoint with another set.\n",
    "\n",
    "s1={1,2,3,4,5}\n",
    "s2={2,3,4,5,6}\n",
    "s3={6,7,8,9}\n",
    "\n",
    "res1=s1.isdisjoint(s2)\n",
    "res2=s1.isdisjoint(s3)\n",
    "\n",
    "print(\"res1=\",res1)\n",
    "print(\"res2=\",res2)"
   ]
  },
  {
   "cell_type": "code",
   "execution_count": 8,
   "metadata": {},
   "outputs": [
    {
     "name": "stdout",
     "output_type": "stream",
     "text": [
      "set1= {1, 4, 9, 16, 25}\n"
     ]
    }
   ],
   "source": [
    "# Create a set of squares of numbers from 1 to 5.\n",
    "\n",
    "l=[]\n",
    "\n",
    "for i in range(1,5+1):\n",
    "    l.append(i**2)\n",
    "print(\"set1=\",set(l))"
   ]
  },
  {
   "cell_type": "code",
   "execution_count": 9,
   "metadata": {},
   "outputs": [
    {
     "name": "stdout",
     "output_type": "stream",
     "text": [
      "s= {2, 4, 6, 8, 10, 12, 14, 16, 18, 20}\n"
     ]
    }
   ],
   "source": [
    "#  Filter out all even numbers from a set.\n",
    "\n",
    "s={1,2,3,4,5,6,7,8,9,10,11,12,13,14,15,16,17,18,19,20}\n",
    "l=[]\n",
    "\n",
    "for i in s:\n",
    "    if i%2==0:\n",
    "        l.append(i)\n",
    "print(\"s=\",set(l))"
   ]
  },
  {
   "cell_type": "code",
   "execution_count": 10,
   "metadata": {},
   "outputs": [
    {
     "name": "stdout",
     "output_type": "stream",
     "text": [
      "new_set= {2, 4, 6, 8, 10}\n"
     ]
    }
   ],
   "source": [
    "# Multiply all elements in a set by 2.\n",
    "\n",
    "s={1,2,3,4,5}\n",
    "\n",
    "new_set={i*2 for i in s}\n",
    "print(\"new_set=\",new_set)"
   ]
  },
  {
   "cell_type": "code",
   "execution_count": 12,
   "metadata": {},
   "outputs": [
    {
     "name": "stdout",
     "output_type": "stream",
     "text": [
      "set of random numbers: {4, 5, 6, 7, 9, 10, 11}\n"
     ]
    }
   ],
   "source": [
    "# Create a set of random numbers.\n",
    "\n",
    "import random\n",
    "\n",
    "n=int(input())\n",
    "rand_num_set=set()\n",
    "\n",
    "for _ in range(10):\n",
    "    rand_num=random.randint(4,12)\n",
    "    rand_num_set.add(rand_num)\n",
    "print(\"set of random numbers:\",rand_num_set)"
   ]
  },
  {
   "cell_type": "code",
   "execution_count": 13,
   "metadata": {},
   "outputs": [
    {
     "name": "stdout",
     "output_type": "stream",
     "text": [
      "It's an empty set\n"
     ]
    }
   ],
   "source": [
    "# Check if a set is empty.\n",
    "\n",
    "set1={}\n",
    "\n",
    "if len(set1)==0:\n",
    "    print(\"It's an empty set\")\n",
    "else:\n",
    "    (\"It's not an empty set\")"
   ]
  },
  {
   "cell_type": "code",
   "execution_count": 14,
   "metadata": {},
   "outputs": [
    {
     "name": "stdout",
     "output_type": "stream",
     "text": [
      "Nested set: {frozenset({1, 2, 3}), frozenset({4, 5, 6}), frozenset({8, 9, 7})}\n"
     ]
    }
   ],
   "source": [
    "# Create a nested set (hint: use frozenset).\n",
    "\n",
    "set1={1,2,3}\n",
    "set2={4,5,6}\n",
    "set3={7,8,9}\n",
    "\n",
    "froz_set1=frozenset(set1)\n",
    "froz_set2=frozenset(set2)\n",
    "froz_set3=frozenset(set3)\n",
    "\n",
    "frozen_set={froz_set1,froz_set2,froz_set3}\n",
    "print(\"Nested set:\",frozen_set)"
   ]
  },
  {
   "cell_type": "code",
   "execution_count": 15,
   "metadata": {},
   "outputs": [
    {
     "name": "stdout",
     "output_type": "stream",
     "text": [
      "s= {65, 2, 34, 56, 12, 45}\n"
     ]
    }
   ],
   "source": [
    "# Remove an element from a set using the discard method.\n",
    "\n",
    "s={2,34,56,31,12,45,65}\n",
    "s.discard(31)\n",
    "print(\"s=\",s)"
   ]
  },
  {
   "cell_type": "code",
   "execution_count": 17,
   "metadata": {},
   "outputs": [
    {
     "name": "stdout",
     "output_type": "stream",
     "text": [
      "s1 is subset of s1: False\n",
      "s1 is superset of s2: False\n",
      "Union: {1, 2, 3, 4, 5, 6, 7}\n",
      "Intersection: {2, 3, 4, 5, 6}\n",
      "Difference: {1}\n"
     ]
    }
   ],
   "source": [
    "# Compare two sets.\n",
    "\n",
    "s1={1,2,3,4,5,6}\n",
    "s2={2,3,4,5,6,7}\n",
    "\n",
    "is_subset=s1.issubset(s2)\n",
    "is_superset=s1.issuperset(s2)\n",
    "is_union=s1.union(s2)\n",
    "is_intersection=s1.intersection(s2)\n",
    "is_difference=s1.difference(s2)\n",
    "\n",
    "print(\"s1 is subset of s1:\",is_subset)\n",
    "print(\"s1 is superset of s2:\",is_superset)\n",
    "print(\"Union:\",is_union)\n",
    "print(\"Intersection:\",is_intersection)\n",
    "print(\"Difference:\",is_difference)"
   ]
  },
  {
   "cell_type": "code",
   "execution_count": 20,
   "metadata": {},
   "outputs": [
    {
     "name": "stdout",
     "output_type": "stream",
     "text": [
      "char_set= {'k', 'c', 'u', 'h', 'a', 'i', 'p'}\n"
     ]
    }
   ],
   "source": [
    "# Create a set from a string.\n",
    "\n",
    "string=input()\n",
    "char_set=set(string)\n",
    "print(\"char_set=\",char_set)"
   ]
  },
  {
   "cell_type": "code",
   "execution_count": 22,
   "metadata": {},
   "outputs": [
    {
     "name": "stdout",
     "output_type": "stream",
     "text": [
      "new_set= {1, 2, 3, 4, 5}\n"
     ]
    }
   ],
   "source": [
    "# Convert a set of strings to a set of integers.\n",
    "\n",
    "s1={\"1\",\"2\",\"3\",\"4\",\"5\"}\n",
    "\n",
    "new_set={int(i) for i in s1}\n",
    "print(\"new_set=\",new_set)"
   ]
  },
  {
   "cell_type": "code",
   "execution_count": 23,
   "metadata": {},
   "outputs": [
    {
     "name": "stdout",
     "output_type": "stream",
     "text": [
      "new_set= {'5', '4', '3', '1', '2'}\n"
     ]
    }
   ],
   "source": [
    "# Convert a set of integers to a set of strings.\n",
    "\n",
    "s1={1,2,3,4,5}\n",
    "\n",
    "new_set={str(i) for i in s1}\n",
    "print(\"new_set=\",new_set)"
   ]
  },
  {
   "cell_type": "code",
   "execution_count": 24,
   "metadata": {},
   "outputs": [
    {
     "name": "stdout",
     "output_type": "stream",
     "text": [
      "new_set= {1, 2, 3, 4, 5}\n"
     ]
    }
   ],
   "source": [
    "# Create a set from a tuple.\n",
    "\n",
    "tup=(1,2,3,4,5)\n",
    "\n",
    "new_set=set(tup)\n",
    "print(\"new_set=\",new_set)"
   ]
  },
  {
   "cell_type": "code",
   "execution_count": 26,
   "metadata": {},
   "outputs": [
    {
     "name": "stdout",
     "output_type": "stream",
     "text": [
      "tupl= (1, 2, 3, 4, 5)\n"
     ]
    }
   ],
   "source": [
    "# Convert a set to a tuple.\n",
    "\n",
    "s1={1,2,3,4,5}\n",
    "\n",
    "tupl=tuple(s1)\n",
    "print(\"tupl=\",tupl)"
   ]
  },
  {
   "cell_type": "code",
   "execution_count": 27,
   "metadata": {},
   "outputs": [
    {
     "name": "stdout",
     "output_type": "stream",
     "text": [
      "Max_value= 86543\n"
     ]
    }
   ],
   "source": [
    "# Find the maximum value in a set.\n",
    "\n",
    "s={23,12,45,87,9,5,67,875,246,7755,86543,3578}\n",
    "\n",
    "max_value=max(s)\n",
    "print(\"Max_value=\",max_value)"
   ]
  },
  {
   "cell_type": "code",
   "execution_count": 28,
   "metadata": {},
   "outputs": [
    {
     "name": "stdout",
     "output_type": "stream",
     "text": [
      "Min_value= 5\n"
     ]
    }
   ],
   "source": [
    "# Find the minimum value in a set.\n",
    "\n",
    "s={23,12,45,87,9,5,67,875,246,7755,86543,3578}\n",
    "\n",
    "min_value=min(s)\n",
    "print(\"Min_value=\",min_value)"
   ]
  },
  {
   "cell_type": "code",
   "execution_count": 29,
   "metadata": {},
   "outputs": [
    {
     "name": "stdout",
     "output_type": "stream",
     "text": [
      "set1= {'neuron', 'pwskills'}\n"
     ]
    }
   ],
   "source": [
    "# Create a set from user input.\n",
    "\n",
    "user_inp=input()\n",
    "user_list=user_inp.split(',')\n",
    "\n",
    "set1=set(user_list)\n",
    "print(\"set1=\",set1)"
   ]
  },
  {
   "cell_type": "code",
   "execution_count": 30,
   "metadata": {},
   "outputs": [
    {
     "name": "stdout",
     "output_type": "stream",
     "text": [
      "The intersection of sets is not empty\n"
     ]
    }
   ],
   "source": [
    "# Check if the intersection of two sets is empty.\n",
    "\n",
    "s1={1,2,3,4,5}\n",
    "s2={3,4,5,6,7}\n",
    "\n",
    "res=s1.intersection(s2)\n",
    "\n",
    "if not res:\n",
    "    print(\"The intersection of sets is empty\")\n",
    "else:\n",
    "    print(\"The intersection of sets is not empty\")"
   ]
  },
  {
   "cell_type": "code",
   "execution_count": 31,
   "metadata": {},
   "outputs": [
    {
     "name": "stdout",
     "output_type": "stream",
     "text": [
      "fibonacci= {0, 1, 2, 3, 5}\n"
     ]
    }
   ],
   "source": [
    "# Create a set of the first 5 Fibonacci numbers.\n",
    "\n",
    "l=[0,1]\n",
    "\n",
    "for i in range(2,5+1):\n",
    "    fib=l[i-1]+l[i-2]\n",
    "    l.append(fib)\n",
    "print(\"fibonacci=\",set(l))"
   ]
  },
  {
   "cell_type": "code",
   "execution_count": 32,
   "metadata": {},
   "outputs": [
    {
     "name": "stdout",
     "output_type": "stream",
     "text": [
      "unique_set= {1, 2, 3, 4, 5, 6, 8, 44}\n"
     ]
    }
   ],
   "source": [
    "# Remove duplicates from a list using sets.\n",
    "\n",
    "l=[1,2,3,44,5,2,3,2,8,4,6,1,2]\n",
    "unique_set=set(l)\n",
    "\n",
    "print(\"unique_set=\",unique_set)"
   ]
  },
  {
   "cell_type": "code",
   "execution_count": 33,
   "metadata": {},
   "outputs": [
    {
     "name": "stdout",
     "output_type": "stream",
     "text": [
      "yes both the sets have the same elements\n"
     ]
    }
   ],
   "source": [
    "# Check if two sets have the same elements, regardless of their count.\n",
    "\n",
    "set1={1,2,3,4,5}\n",
    "set2={1,2,3,4,5}\n",
    "\n",
    "if set1==set2:\n",
    "    print(\"yes both the sets have the same elements\")\n",
    "else:\n",
    "    print(\"Elements are not same\")"
   ]
  },
  {
   "cell_type": "code",
   "execution_count": 34,
   "metadata": {},
   "outputs": [
    {
     "name": "stdout",
     "output_type": "stream",
     "text": [
      "new_set= {0, 1, 4, 9, 16}\n"
     ]
    }
   ],
   "source": [
    "#  Create a set of the first n powers of 2.\n",
    "\n",
    "n=int(input())\n",
    "\n",
    "new_set={i**2 for i in range(n)}\n",
    "print(\"new_set=\",new_set)"
   ]
  },
  {
   "cell_type": "code",
   "execution_count": 35,
   "metadata": {},
   "outputs": [
    {
     "name": "stdout",
     "output_type": "stream",
     "text": [
      "common_elem= [3, 4, 5]\n"
     ]
    }
   ],
   "source": [
    "# Find the common elements between a set and a list.\n",
    "\n",
    "s={1,2,3,4,5}\n",
    "lis=[3,4,5,6,7]\n",
    "\n",
    "common_elem=[x for x in lis if x in s]\n",
    "print(\"common_elem=\",common_elem)"
   ]
  },
  {
   "cell_type": "code",
   "execution_count": 36,
   "metadata": {},
   "outputs": [
    {
     "name": "stdout",
     "output_type": "stream",
     "text": [
      "s1= {1, 3, 6, 10, 15, 21, 28}\n"
     ]
    }
   ],
   "source": [
    "#  Create a set of the first n triangular numbers.\n",
    "\n",
    "l=[]\n",
    "n=int(input())\n",
    "\n",
    "for i in range(1,n+1):\n",
    "    l.append(i*(i+1)//2)\n",
    "print(\"s1=\",set(l))"
   ]
  },
  {
   "cell_type": "code",
   "execution_count": 39,
   "metadata": {},
   "outputs": [
    {
     "name": "stdout",
     "output_type": "stream",
     "text": [
      "set1 is the subset of set2\n"
     ]
    }
   ],
   "source": [
    "# Check if a set contains another set as a subset.\n",
    "\n",
    "set1={1,2,3}\n",
    "set2={1,2,3,4,5}\n",
    "\n",
    "is_subset=set1.issubset(set2)\n",
    "\n",
    "if (is_subset):\n",
    "    print(\"set1 is the subset of set2\")\n",
    "else:\n",
    "    print(\"set1 is not the subset of set2\")"
   ]
  },
  {
   "cell_type": "code",
   "execution_count": 41,
   "metadata": {},
   "outputs": [
    {
     "name": "stdout",
     "output_type": "stream",
     "text": [
      "set1= {0, 1}\n"
     ]
    }
   ],
   "source": [
    "# Create a set of alternating 1s and 0s of length n.\n",
    "\n",
    "n=int(input())\n",
    "\n",
    "set1={1 if i%2==0 else 0 for i in range(n)}\n",
    "print(\"set1=\",set1)"
   ]
  },
  {
   "cell_type": "code",
   "execution_count": 42,
   "metadata": {},
   "outputs": [
    {
     "name": "stdout",
     "output_type": "stream",
     "text": [
      "s4= {1, 2, 3, 4, 5, 6, 7, 8, 9}\n"
     ]
    }
   ],
   "source": [
    "# Merge multiple sets into one.\n",
    "\n",
    "s1={1,2,3}\n",
    "s2={4,5,6}\n",
    "s3={7,8,9}\n",
    "\n",
    "s4=s1.union(s2,s3)\n",
    "print(\"s4=\",s4)"
   ]
  }
 ],
 "metadata": {
  "kernelspec": {
   "display_name": "Python 3 (ipykernel)",
   "language": "python",
   "name": "python3"
  },
  "language_info": {
   "codemirror_mode": {
    "name": "ipython",
    "version": 3
   },
   "file_extension": ".py",
   "mimetype": "text/x-python",
   "name": "python",
   "nbconvert_exporter": "python",
   "pygments_lexer": "ipython3",
   "version": "3.11.3"
  }
 },
 "nbformat": 4,
 "nbformat_minor": 2
}
