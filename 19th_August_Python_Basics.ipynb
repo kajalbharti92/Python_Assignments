{
 "cells": [
  {
   "cell_type": "markdown",
   "metadata": {},
   "source": [
    "\n",
    "TOPIC: Python Basics Variable"
   ]
  },
  {
   "cell_type": "code",
   "execution_count": 1,
   "metadata": {},
   "outputs": [
    {
     "name": "stdout",
     "output_type": "stream",
     "text": [
      "The value of x: 40 and the value of y: 30\n",
      "After swapping the values of x : 30 and value of y : 40\n"
     ]
    }
   ],
   "source": [
    "# Declare two variables, `x` and `y`, and assign them integer values. Swap the values of these variables without using any temporary variable.\n",
    "\n",
    "x=int(input(\"Enter the value of x: \"))\n",
    "y=int(input(\"Enter the value of y: \"))\n",
    "print(\"The value of x:\",x,\"and the value of y:\",y)\n",
    "x=x+y\n",
    "y=x-y\n",
    "x=x-y\n",
    "print(\"After swapping the values of x : {} and value of y : {}\".format(x,y))"
   ]
  },
  {
   "cell_type": "code",
   "execution_count": 4,
   "metadata": {},
   "outputs": [
    {
     "name": "stdout",
     "output_type": "stream",
     "text": [
      "The length of rectangle: 4.0 and the width of rectangle: 5.0\n",
      "Area of the rectangle : 20.0\n"
     ]
    }
   ],
   "source": [
    "# Create a program that calculates the area of a rectangle. Take the length and width as inputs from the user and store them in variables.Calculate and display the area.\n",
    "\n",
    "length=float(input(\"Enter the length of the rectangle : \"))\n",
    "width=float(input(\"Enter the width of the rectangle : \"))\n",
    "print(\"The length of rectangle:\",length,\"and the width of rectangle:\",width)\n",
    "print(\"Area of the rectangle : {}\".format(length*width))"
   ]
  },
  {
   "cell_type": "code",
   "execution_count": 28,
   "metadata": {},
   "outputs": [
    {
     "name": "stdout",
     "output_type": "stream",
     "text": [
      "12.0\n",
      "Temperature in Fahrenheit : 53.6°F\n"
     ]
    }
   ],
   "source": [
    "# Write a Python program that converts temperature from Celsius to Fahrenheit. Take the temperature in Celsius as input, store it in a variable, convert it to Fahrenheit, and display the result.\n",
    "\n",
    "temp_cel=float(input(\"Enter the temperature in Celsius: \"))\n",
    "print(temp_cel)\n",
    "print(\"Temperature in Fahrenheit : {}°F\".format(temp_cel*9/5+32))"
   ]
  },
  {
   "cell_type": "markdown",
   "metadata": {},
   "source": [
    "TOPIC: String Based Questions\n"
   ]
  },
  {
   "cell_type": "code",
   "execution_count": 33,
   "metadata": {},
   "outputs": [
    {
     "name": "stdout",
     "output_type": "stream",
     "text": [
      "Enter the string you want:  vdjsvfyiwegb\n",
      "The length of the given string is 12\n"
     ]
    }
   ],
   "source": [
    "# Write a Python program that takes a string as input and prints the length of the string.\n",
    "\n",
    "str=input(\"Enter the string you want: \")\n",
    "print(\"Enter the string you want: \",str)\n",
    "print(\"The length of the given string is {}\".format(len(str)))\n"
   ]
  },
  {
   "cell_type": "code",
   "execution_count": 8,
   "metadata": {},
   "outputs": [
    {
     "name": "stdout",
     "output_type": "stream",
     "text": [
      "Enter the sentence to count the number of vowels:  Kaja'l\n",
      "Count of Vowels in a given sentence are:  2\n"
     ]
    }
   ],
   "source": [
    "# Create a program that takes a sentence from the user and counts the number of vowels (a, e, i, o, u) in the string.\n",
    "\n",
    "S=input()\n",
    "print(\"Enter the sentence to count the number of vowels: \",S)\n",
    "counts=0\n",
    "for i in S:\n",
    "    if (i=='A' or i=='a' or i=='E' or i=='e' or i=='i' or i=='I' or i=='O' or i=='o' or i=='U' or i=='u'):\n",
    "        counts+=1\n",
    "print(\"Count of Vowels in a given sentence are: \", counts)   "
   ]
  },
  {
   "cell_type": "code",
   "execution_count": 25,
   "metadata": {},
   "outputs": [
    {
     "name": "stdout",
     "output_type": "stream",
     "text": [
      "Hello World!\n",
      "Reversed string !dlroW olleH\n"
     ]
    }
   ],
   "source": [
    "# Given a string, reverse the order of characters using string slicing and print the reversed string.\n",
    "\n",
    "S=\"Hello World!\"\n",
    "print(S)\n",
    "print(\"Reversed string {}\".format(S[::-1]))"
   ]
  },
  {
   "cell_type": "code",
   "execution_count": 35,
   "metadata": {},
   "outputs": [
    {
     "name": "stdout",
     "output_type": "stream",
     "text": [
      "Enter any string:  Naman\n",
      "It's not a pallindrome\n"
     ]
    }
   ],
   "source": [
    "# Write a program that takes a string as input and checks if it is a palindrome (reads the same forwards and backwards).\n",
    "\n",
    "p=input(\"Enter any string: \")\n",
    "print(\"Enter any string: \",p)\n",
    "if p==p[::-1]:\n",
    "    print(\"It's a pallindrome\")\n",
    "else:\n",
    "    print(\"It's not a pallindrome\")"
   ]
  },
  {
   "cell_type": "code",
   "execution_count": 12,
   "metadata": {},
   "outputs": [
    {
     "name": "stdout",
     "output_type": "stream",
     "text": [
      "Enter any string : My name is Kajal\n",
      "MynameisKajal\n"
     ]
    }
   ],
   "source": [
    "# Create a program that takes a string as input and removes all the spaces from it. Print the modified string without spaces.\n",
    "\n",
    "S=input()\n",
    "print(\"Enter any string :\",S)\n",
    "S1=\"\"\n",
    "for i in S:\n",
    "    if(i!=\" \"):\n",
    "        S1+=i\n",
    "print(S1)\n",
    "\n",
    "\n"
   ]
  }
 ],
 "metadata": {
  "kernelspec": {
   "display_name": "Python 3",
   "language": "python",
   "name": "python3"
  },
  "language_info": {
   "codemirror_mode": {
    "name": "ipython",
    "version": 3
   },
   "file_extension": ".py",
   "mimetype": "text/x-python",
   "name": "python",
   "nbconvert_exporter": "python",
   "pygments_lexer": "ipython3",
   "version": "3.11.3"
  },
  "orig_nbformat": 4
 },
 "nbformat": 4,
 "nbformat_minor": 2
}
